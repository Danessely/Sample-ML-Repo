{
  "cells": [
    {
      "cell_type": "code",
      "execution_count": 137,
      "metadata": {
        "colab": {
          "base_uri": "https://localhost:8080/"
        },
        "id": "bfdBEc29I18j",
        "outputId": "10870137-4688-4b2d-dda3-668d4d1f17c6"
      },
      "outputs": [
        {
          "name": "stdout",
          "output_type": "stream",
          "text": [
            "[nltk_data] Downloading package stopwords to /root/nltk_data...\n",
            "[nltk_data]   Package stopwords is already up-to-date!\n",
            "[nltk_data] Downloading package wordnet to /root/nltk_data...\n",
            "[nltk_data]   Package wordnet is already up-to-date!\n"
          ]
        },
        {
          "data": {
            "text/plain": [
              "True"
            ]
          },
          "execution_count": 137,
          "metadata": {},
          "output_type": "execute_result"
        }
      ],
      "source": [
        "import re\n",
        "import nltk\n",
        "from nltk import wordnet, pos_tag\n",
        "from sklearn.feature_extraction.text import CountVectorizer\n",
        "from sklearn.feature_extraction.text import TfidfVectorizer\n",
        "from sklearn.model_selection import train_test_split\n",
        "from sklearn import metrics\n",
        "from nltk.corpus import wordnet\n",
        "import string\n",
        "from nltk import pos_tag\n",
        "from nltk import WordNetLemmatizer\n",
        "nltk.download('stopwords')\n",
        "nltk.download('wordnet')"
      ]
    },
    {
      "cell_type": "code",
      "execution_count": 138,
      "metadata": {
        "colab": {
          "base_uri": "https://localhost:8080/"
        },
        "id": "bPBtB8A3t_eJ",
        "outputId": "59cfdd80-6361-49b5-d806-66d1be3fceec"
      },
      "outputs": [
        {
          "name": "stdout",
          "output_type": "stream",
          "text": [
            "[nltk_data] Downloading package averaged_perceptron_tagger to\n",
            "[nltk_data]     /root/nltk_data...\n",
            "[nltk_data]   Package averaged_perceptron_tagger is already up-to-\n",
            "[nltk_data]       date!\n"
          ]
        },
        {
          "data": {
            "text/plain": [
              "True"
            ]
          },
          "execution_count": 138,
          "metadata": {},
          "output_type": "execute_result"
        }
      ],
      "source": [
        "from nltk.corpus import stopwords\n",
        "nltk.download('averaged_perceptron_tagger')"
      ]
    },
    {
      "cell_type": "code",
      "execution_count": 139,
      "metadata": {
        "id": "_fUDalj9Nbgq"
      },
      "outputs": [],
      "source": [
        "import pandas as pd\n",
        "import numpy as np"
      ]
    },
    {
      "cell_type": "code",
      "execution_count": 140,
      "metadata": {
        "id": "jX8ba6MRgOsx"
      },
      "outputs": [],
      "source": [
        "from gensim.models.word2vec import Word2Vec"
      ]
    },
    {
      "cell_type": "code",
      "execution_count": 141,
      "metadata": {
        "id": "9Hfv6cNaNPYH"
      },
      "outputs": [],
      "source": [
        "train_df = pd.read_csv('/content/drive/MyDrive/Programming/train.csv', encoding=\"ISO-8859-1\", index_col='Id')"
      ]
    },
    {
      "cell_type": "code",
      "execution_count": 142,
      "metadata": {
        "colab": {
          "base_uri": "https://localhost:8080/",
          "height": 455
        },
        "id": "2vBGfoxANjh9",
        "outputId": "49889c5c-8ef2-4326-82eb-b61462524978"
      },
      "outputs": [
        {
          "data": {
            "text/html": [
              "\n",
              "  <div id=\"df-07a54507-2854-49d3-813d-c276066b465d\">\n",
              "    <div class=\"colab-df-container\">\n",
              "      <div>\n",
              "<style scoped>\n",
              "    .dataframe tbody tr th:only-of-type {\n",
              "        vertical-align: middle;\n",
              "    }\n",
              "\n",
              "    .dataframe tbody tr th {\n",
              "        vertical-align: top;\n",
              "    }\n",
              "\n",
              "    .dataframe thead th {\n",
              "        text-align: right;\n",
              "    }\n",
              "</style>\n",
              "<table border=\"1\" class=\"dataframe\">\n",
              "  <thead>\n",
              "    <tr style=\"text-align: right;\">\n",
              "      <th></th>\n",
              "      <th>Hotel_name</th>\n",
              "      <th>Review_Title</th>\n",
              "      <th>Review_Text</th>\n",
              "      <th>Rating</th>\n",
              "    </tr>\n",
              "    <tr>\n",
              "      <th>Id</th>\n",
              "      <th></th>\n",
              "      <th></th>\n",
              "      <th></th>\n",
              "      <th></th>\n",
              "    </tr>\n",
              "  </thead>\n",
              "  <tbody>\n",
              "    <tr>\n",
              "      <th>0</th>\n",
              "      <td>Park Hyatt</td>\n",
              "      <td>Refuge in Chennai</td>\n",
              "      <td>Excellent room and exercise facility. All arou...</td>\n",
              "      <td>80.0</td>\n",
              "    </tr>\n",
              "    <tr>\n",
              "      <th>1</th>\n",
              "      <td>Hilton Chennai</td>\n",
              "      <td>Hilton Chennai</td>\n",
              "      <td>Very comfortable and felt safe. \\r\\nStaff were...</td>\n",
              "      <td>100.0</td>\n",
              "    </tr>\n",
              "    <tr>\n",
              "      <th>2</th>\n",
              "      <td>The Royal Regency</td>\n",
              "      <td>No worth the rating shown in websites. Pricing...</td>\n",
              "      <td>Not worth the rating shown. Service is not goo...</td>\n",
              "      <td>71.0</td>\n",
              "    </tr>\n",
              "    <tr>\n",
              "      <th>3</th>\n",
              "      <td>Rivera</td>\n",
              "      <td>Good stay</td>\n",
              "      <td>First of all nice &amp; courteous staff, only one ...</td>\n",
              "      <td>86.0</td>\n",
              "    </tr>\n",
              "    <tr>\n",
              "      <th>4</th>\n",
              "      <td>Park Hyatt</td>\n",
              "      <td>Needs improvement</td>\n",
              "      <td>Overall ambience of the hotel is very good. In...</td>\n",
              "      <td>86.0</td>\n",
              "    </tr>\n",
              "    <tr>\n",
              "      <th>...</th>\n",
              "      <td>...</td>\n",
              "      <td>...</td>\n",
              "      <td>...</td>\n",
              "      <td>...</td>\n",
              "    </tr>\n",
              "    <tr>\n",
              "      <th>2346</th>\n",
              "      <td>Hyatt Regency Chennai</td>\n",
              "      <td>NaN</td>\n",
              "      <td>Most impressive service by staff in all areas....</td>\n",
              "      <td>80.0</td>\n",
              "    </tr>\n",
              "    <tr>\n",
              "      <th>2347</th>\n",
              "      <td>New Woodlands</td>\n",
              "      <td>Homely villa</td>\n",
              "      <td>New woodlands chennai which gave me a homely e...</td>\n",
              "      <td>71.0</td>\n",
              "    </tr>\n",
              "    <tr>\n",
              "      <th>2348</th>\n",
              "      <td>Samudra Residency</td>\n",
              "      <td>Nice accommodation and facilities</td>\n",
              "      <td>Awesome I liked the neatness and maintenance. ...</td>\n",
              "      <td>100.0</td>\n",
              "    </tr>\n",
              "    <tr>\n",
              "      <th>2349</th>\n",
              "      <td>The Residency Chennai</td>\n",
              "      <td>The Residency Good Centrally located Hotel</td>\n",
              "      <td>The overall experience was good. However the w...</td>\n",
              "      <td>80.0</td>\n",
              "    </tr>\n",
              "    <tr>\n",
              "      <th>2350</th>\n",
              "      <td>Cloud Nine Serviced Apartments</td>\n",
              "      <td>Homely stay with comfort and luxury</td>\n",
              "      <td>Its a very cool and luxurious cottage to stay ...</td>\n",
              "      <td>71.0</td>\n",
              "    </tr>\n",
              "  </tbody>\n",
              "</table>\n",
              "<p>2351 rows × 4 columns</p>\n",
              "</div>\n",
              "      <button class=\"colab-df-convert\" onclick=\"convertToInteractive('df-07a54507-2854-49d3-813d-c276066b465d')\"\n",
              "              title=\"Convert this dataframe to an interactive table.\"\n",
              "              style=\"display:none;\">\n",
              "        \n",
              "  <svg xmlns=\"http://www.w3.org/2000/svg\" height=\"24px\"viewBox=\"0 0 24 24\"\n",
              "       width=\"24px\">\n",
              "    <path d=\"M0 0h24v24H0V0z\" fill=\"none\"/>\n",
              "    <path d=\"M18.56 5.44l.94 2.06.94-2.06 2.06-.94-2.06-.94-.94-2.06-.94 2.06-2.06.94zm-11 1L8.5 8.5l.94-2.06 2.06-.94-2.06-.94L8.5 2.5l-.94 2.06-2.06.94zm10 10l.94 2.06.94-2.06 2.06-.94-2.06-.94-.94-2.06-.94 2.06-2.06.94z\"/><path d=\"M17.41 7.96l-1.37-1.37c-.4-.4-.92-.59-1.43-.59-.52 0-1.04.2-1.43.59L10.3 9.45l-7.72 7.72c-.78.78-.78 2.05 0 2.83L4 21.41c.39.39.9.59 1.41.59.51 0 1.02-.2 1.41-.59l7.78-7.78 2.81-2.81c.8-.78.8-2.07 0-2.86zM5.41 20L4 18.59l7.72-7.72 1.47 1.35L5.41 20z\"/>\n",
              "  </svg>\n",
              "      </button>\n",
              "      \n",
              "  <style>\n",
              "    .colab-df-container {\n",
              "      display:flex;\n",
              "      flex-wrap:wrap;\n",
              "      gap: 12px;\n",
              "    }\n",
              "\n",
              "    .colab-df-convert {\n",
              "      background-color: #E8F0FE;\n",
              "      border: none;\n",
              "      border-radius: 50%;\n",
              "      cursor: pointer;\n",
              "      display: none;\n",
              "      fill: #1967D2;\n",
              "      height: 32px;\n",
              "      padding: 0 0 0 0;\n",
              "      width: 32px;\n",
              "    }\n",
              "\n",
              "    .colab-df-convert:hover {\n",
              "      background-color: #E2EBFA;\n",
              "      box-shadow: 0px 1px 2px rgba(60, 64, 67, 0.3), 0px 1px 3px 1px rgba(60, 64, 67, 0.15);\n",
              "      fill: #174EA6;\n",
              "    }\n",
              "\n",
              "    [theme=dark] .colab-df-convert {\n",
              "      background-color: #3B4455;\n",
              "      fill: #D2E3FC;\n",
              "    }\n",
              "\n",
              "    [theme=dark] .colab-df-convert:hover {\n",
              "      background-color: #434B5C;\n",
              "      box-shadow: 0px 1px 3px 1px rgba(0, 0, 0, 0.15);\n",
              "      filter: drop-shadow(0px 1px 2px rgba(0, 0, 0, 0.3));\n",
              "      fill: #FFFFFF;\n",
              "    }\n",
              "  </style>\n",
              "\n",
              "      <script>\n",
              "        const buttonEl =\n",
              "          document.querySelector('#df-07a54507-2854-49d3-813d-c276066b465d button.colab-df-convert');\n",
              "        buttonEl.style.display =\n",
              "          google.colab.kernel.accessAllowed ? 'block' : 'none';\n",
              "\n",
              "        async function convertToInteractive(key) {\n",
              "          const element = document.querySelector('#df-07a54507-2854-49d3-813d-c276066b465d');\n",
              "          const dataTable =\n",
              "            await google.colab.kernel.invokeFunction('convertToInteractive',\n",
              "                                                     [key], {});\n",
              "          if (!dataTable) return;\n",
              "\n",
              "          const docLinkHtml = 'Like what you see? Visit the ' +\n",
              "            '<a target=\"_blank\" href=https://colab.research.google.com/notebooks/data_table.ipynb>data table notebook</a>'\n",
              "            + ' to learn more about interactive tables.';\n",
              "          element.innerHTML = '';\n",
              "          dataTable['output_type'] = 'display_data';\n",
              "          await google.colab.output.renderOutput(dataTable, element);\n",
              "          const docLink = document.createElement('div');\n",
              "          docLink.innerHTML = docLinkHtml;\n",
              "          element.appendChild(docLink);\n",
              "        }\n",
              "      </script>\n",
              "    </div>\n",
              "  </div>\n",
              "  "
            ],
            "text/plain": [
              "                          Hotel_name  \\\n",
              "Id                                     \n",
              "0                         Park Hyatt   \n",
              "1                     Hilton Chennai   \n",
              "2                  The Royal Regency   \n",
              "3                             Rivera   \n",
              "4                         Park Hyatt   \n",
              "...                              ...   \n",
              "2346           Hyatt Regency Chennai   \n",
              "2347                   New Woodlands   \n",
              "2348               Samudra Residency   \n",
              "2349           The Residency Chennai   \n",
              "2350  Cloud Nine Serviced Apartments   \n",
              "\n",
              "                                           Review_Title  \\\n",
              "Id                                                        \n",
              "0                                     Refuge in Chennai   \n",
              "1                                        Hilton Chennai   \n",
              "2     No worth the rating shown in websites. Pricing...   \n",
              "3                                             Good stay   \n",
              "4                                     Needs improvement   \n",
              "...                                                 ...   \n",
              "2346                                                NaN   \n",
              "2347                                       Homely villa   \n",
              "2348                  Nice accommodation and facilities   \n",
              "2349         The Residency Good Centrally located Hotel   \n",
              "2350                Homely stay with comfort and luxury   \n",
              "\n",
              "                                            Review_Text  Rating  \n",
              "Id                                                               \n",
              "0     Excellent room and exercise facility. All arou...    80.0  \n",
              "1     Very comfortable and felt safe. \\r\\nStaff were...   100.0  \n",
              "2     Not worth the rating shown. Service is not goo...    71.0  \n",
              "3     First of all nice & courteous staff, only one ...    86.0  \n",
              "4     Overall ambience of the hotel is very good. In...    86.0  \n",
              "...                                                 ...     ...  \n",
              "2346  Most impressive service by staff in all areas....    80.0  \n",
              "2347  New woodlands chennai which gave me a homely e...    71.0  \n",
              "2348  Awesome I liked the neatness and maintenance. ...   100.0  \n",
              "2349  The overall experience was good. However the w...    80.0  \n",
              "2350  Its a very cool and luxurious cottage to stay ...    71.0  \n",
              "\n",
              "[2351 rows x 4 columns]"
            ]
          },
          "execution_count": 142,
          "metadata": {},
          "output_type": "execute_result"
        }
      ],
      "source": [
        "train_df"
      ]
    },
    {
      "cell_type": "code",
      "execution_count": 143,
      "metadata": {
        "colab": {
          "base_uri": "https://localhost:8080/"
        },
        "id": "3UircZNXVA2a",
        "outputId": "898135f9-7bcd-4d30-883d-737682a5d591"
      },
      "outputs": [
        {
          "data": {
            "text/plain": [
              "Hotel_name        0\n",
              "Review_Title    215\n",
              "Review_Text       0\n",
              "Rating            0\n",
              "dtype: int64"
            ]
          },
          "execution_count": 143,
          "metadata": {},
          "output_type": "execute_result"
        }
      ],
      "source": [
        "train_df.isna().sum()"
      ]
    },
    {
      "cell_type": "markdown",
      "metadata": {
        "id": "gRLLgNADszVc"
      },
      "source": [
        "Заменим отстутствующие названия отзывов просто на название отеля, ничего плохого не случится, я думаю"
      ]
    },
    {
      "cell_type": "code",
      "execution_count": 144,
      "metadata": {
        "id": "Bh--Q-m1nRYl"
      },
      "outputs": [],
      "source": [
        "train_df.loc[train_df[\"Review_Title\"].isna(), 'Review_Title'] = train_df.loc[train_df[\"Review_Title\"].isna(), 'Hotel_name']"
      ]
    },
    {
      "cell_type": "code",
      "execution_count": 145,
      "metadata": {
        "colab": {
          "base_uri": "https://localhost:8080/"
        },
        "id": "OoI-uAMlnpsi",
        "outputId": "e5360833-b4b1-4274-d5ee-1a2876cf3774"
      },
      "outputs": [
        {
          "data": {
            "text/plain": [
              "Hotel_name      0\n",
              "Review_Title    0\n",
              "Review_Text     0\n",
              "Rating          0\n",
              "dtype: int64"
            ]
          },
          "execution_count": 145,
          "metadata": {},
          "output_type": "execute_result"
        }
      ],
      "source": [
        "train_df.isna().sum()"
      ]
    },
    {
      "cell_type": "markdown",
      "metadata": {
        "id": "IDVPuUbTVGWG"
      },
      "source": [
        "Соединим заголовок и текст отзыва"
      ]
    },
    {
      "cell_type": "code",
      "execution_count": 146,
      "metadata": {
        "id": "wiFGoLaKVIxg"
      },
      "outputs": [],
      "source": [
        "train_df['review_full'] = train_df[\"Review_Title\"] + ' ' + train_df['Review_Text']"
      ]
    },
    {
      "cell_type": "code",
      "execution_count": 147,
      "metadata": {
        "colab": {
          "base_uri": "https://localhost:8080/",
          "height": 455
        },
        "id": "MbHL4XxIVbOC",
        "outputId": "e4d2191c-0465-4402-c48e-bd6f0095ca16"
      },
      "outputs": [
        {
          "data": {
            "text/html": [
              "\n",
              "  <div id=\"df-c173939c-4738-4c3c-98ee-3726514fe414\">\n",
              "    <div class=\"colab-df-container\">\n",
              "      <div>\n",
              "<style scoped>\n",
              "    .dataframe tbody tr th:only-of-type {\n",
              "        vertical-align: middle;\n",
              "    }\n",
              "\n",
              "    .dataframe tbody tr th {\n",
              "        vertical-align: top;\n",
              "    }\n",
              "\n",
              "    .dataframe thead th {\n",
              "        text-align: right;\n",
              "    }\n",
              "</style>\n",
              "<table border=\"1\" class=\"dataframe\">\n",
              "  <thead>\n",
              "    <tr style=\"text-align: right;\">\n",
              "      <th></th>\n",
              "      <th>Hotel_name</th>\n",
              "      <th>Review_Title</th>\n",
              "      <th>Review_Text</th>\n",
              "      <th>Rating</th>\n",
              "      <th>review_full</th>\n",
              "    </tr>\n",
              "    <tr>\n",
              "      <th>Id</th>\n",
              "      <th></th>\n",
              "      <th></th>\n",
              "      <th></th>\n",
              "      <th></th>\n",
              "      <th></th>\n",
              "    </tr>\n",
              "  </thead>\n",
              "  <tbody>\n",
              "    <tr>\n",
              "      <th>0</th>\n",
              "      <td>Park Hyatt</td>\n",
              "      <td>Refuge in Chennai</td>\n",
              "      <td>Excellent room and exercise facility. All arou...</td>\n",
              "      <td>80.0</td>\n",
              "      <td>Refuge in Chennai Excellent room and exercise ...</td>\n",
              "    </tr>\n",
              "    <tr>\n",
              "      <th>1</th>\n",
              "      <td>Hilton Chennai</td>\n",
              "      <td>Hilton Chennai</td>\n",
              "      <td>Very comfortable and felt safe. \\r\\nStaff were...</td>\n",
              "      <td>100.0</td>\n",
              "      <td>Hilton Chennai Very comfortable and felt safe....</td>\n",
              "    </tr>\n",
              "    <tr>\n",
              "      <th>2</th>\n",
              "      <td>The Royal Regency</td>\n",
              "      <td>No worth the rating shown in websites. Pricing...</td>\n",
              "      <td>Not worth the rating shown. Service is not goo...</td>\n",
              "      <td>71.0</td>\n",
              "      <td>No worth the rating shown in websites. Pricing...</td>\n",
              "    </tr>\n",
              "    <tr>\n",
              "      <th>3</th>\n",
              "      <td>Rivera</td>\n",
              "      <td>Good stay</td>\n",
              "      <td>First of all nice &amp; courteous staff, only one ...</td>\n",
              "      <td>86.0</td>\n",
              "      <td>Good stay First of all nice &amp; courteous staff,...</td>\n",
              "    </tr>\n",
              "    <tr>\n",
              "      <th>4</th>\n",
              "      <td>Park Hyatt</td>\n",
              "      <td>Needs improvement</td>\n",
              "      <td>Overall ambience of the hotel is very good. In...</td>\n",
              "      <td>86.0</td>\n",
              "      <td>Needs improvement Overall ambience of the hote...</td>\n",
              "    </tr>\n",
              "    <tr>\n",
              "      <th>...</th>\n",
              "      <td>...</td>\n",
              "      <td>...</td>\n",
              "      <td>...</td>\n",
              "      <td>...</td>\n",
              "      <td>...</td>\n",
              "    </tr>\n",
              "    <tr>\n",
              "      <th>2346</th>\n",
              "      <td>Hyatt Regency Chennai</td>\n",
              "      <td>Hyatt Regency Chennai</td>\n",
              "      <td>Most impressive service by staff in all areas....</td>\n",
              "      <td>80.0</td>\n",
              "      <td>Hyatt Regency Chennai Most impressive service ...</td>\n",
              "    </tr>\n",
              "    <tr>\n",
              "      <th>2347</th>\n",
              "      <td>New Woodlands</td>\n",
              "      <td>Homely villa</td>\n",
              "      <td>New woodlands chennai which gave me a homely e...</td>\n",
              "      <td>71.0</td>\n",
              "      <td>Homely villa New woodlands chennai which gave ...</td>\n",
              "    </tr>\n",
              "    <tr>\n",
              "      <th>2348</th>\n",
              "      <td>Samudra Residency</td>\n",
              "      <td>Nice accommodation and facilities</td>\n",
              "      <td>Awesome I liked the neatness and maintenance. ...</td>\n",
              "      <td>100.0</td>\n",
              "      <td>Nice accommodation and facilities Awesome I li...</td>\n",
              "    </tr>\n",
              "    <tr>\n",
              "      <th>2349</th>\n",
              "      <td>The Residency Chennai</td>\n",
              "      <td>The Residency Good Centrally located Hotel</td>\n",
              "      <td>The overall experience was good. However the w...</td>\n",
              "      <td>80.0</td>\n",
              "      <td>The Residency Good Centrally located Hotel The...</td>\n",
              "    </tr>\n",
              "    <tr>\n",
              "      <th>2350</th>\n",
              "      <td>Cloud Nine Serviced Apartments</td>\n",
              "      <td>Homely stay with comfort and luxury</td>\n",
              "      <td>Its a very cool and luxurious cottage to stay ...</td>\n",
              "      <td>71.0</td>\n",
              "      <td>Homely stay with comfort and luxury Its a very...</td>\n",
              "    </tr>\n",
              "  </tbody>\n",
              "</table>\n",
              "<p>2351 rows × 5 columns</p>\n",
              "</div>\n",
              "      <button class=\"colab-df-convert\" onclick=\"convertToInteractive('df-c173939c-4738-4c3c-98ee-3726514fe414')\"\n",
              "              title=\"Convert this dataframe to an interactive table.\"\n",
              "              style=\"display:none;\">\n",
              "        \n",
              "  <svg xmlns=\"http://www.w3.org/2000/svg\" height=\"24px\"viewBox=\"0 0 24 24\"\n",
              "       width=\"24px\">\n",
              "    <path d=\"M0 0h24v24H0V0z\" fill=\"none\"/>\n",
              "    <path d=\"M18.56 5.44l.94 2.06.94-2.06 2.06-.94-2.06-.94-.94-2.06-.94 2.06-2.06.94zm-11 1L8.5 8.5l.94-2.06 2.06-.94-2.06-.94L8.5 2.5l-.94 2.06-2.06.94zm10 10l.94 2.06.94-2.06 2.06-.94-2.06-.94-.94-2.06-.94 2.06-2.06.94z\"/><path d=\"M17.41 7.96l-1.37-1.37c-.4-.4-.92-.59-1.43-.59-.52 0-1.04.2-1.43.59L10.3 9.45l-7.72 7.72c-.78.78-.78 2.05 0 2.83L4 21.41c.39.39.9.59 1.41.59.51 0 1.02-.2 1.41-.59l7.78-7.78 2.81-2.81c.8-.78.8-2.07 0-2.86zM5.41 20L4 18.59l7.72-7.72 1.47 1.35L5.41 20z\"/>\n",
              "  </svg>\n",
              "      </button>\n",
              "      \n",
              "  <style>\n",
              "    .colab-df-container {\n",
              "      display:flex;\n",
              "      flex-wrap:wrap;\n",
              "      gap: 12px;\n",
              "    }\n",
              "\n",
              "    .colab-df-convert {\n",
              "      background-color: #E8F0FE;\n",
              "      border: none;\n",
              "      border-radius: 50%;\n",
              "      cursor: pointer;\n",
              "      display: none;\n",
              "      fill: #1967D2;\n",
              "      height: 32px;\n",
              "      padding: 0 0 0 0;\n",
              "      width: 32px;\n",
              "    }\n",
              "\n",
              "    .colab-df-convert:hover {\n",
              "      background-color: #E2EBFA;\n",
              "      box-shadow: 0px 1px 2px rgba(60, 64, 67, 0.3), 0px 1px 3px 1px rgba(60, 64, 67, 0.15);\n",
              "      fill: #174EA6;\n",
              "    }\n",
              "\n",
              "    [theme=dark] .colab-df-convert {\n",
              "      background-color: #3B4455;\n",
              "      fill: #D2E3FC;\n",
              "    }\n",
              "\n",
              "    [theme=dark] .colab-df-convert:hover {\n",
              "      background-color: #434B5C;\n",
              "      box-shadow: 0px 1px 3px 1px rgba(0, 0, 0, 0.15);\n",
              "      filter: drop-shadow(0px 1px 2px rgba(0, 0, 0, 0.3));\n",
              "      fill: #FFFFFF;\n",
              "    }\n",
              "  </style>\n",
              "\n",
              "      <script>\n",
              "        const buttonEl =\n",
              "          document.querySelector('#df-c173939c-4738-4c3c-98ee-3726514fe414 button.colab-df-convert');\n",
              "        buttonEl.style.display =\n",
              "          google.colab.kernel.accessAllowed ? 'block' : 'none';\n",
              "\n",
              "        async function convertToInteractive(key) {\n",
              "          const element = document.querySelector('#df-c173939c-4738-4c3c-98ee-3726514fe414');\n",
              "          const dataTable =\n",
              "            await google.colab.kernel.invokeFunction('convertToInteractive',\n",
              "                                                     [key], {});\n",
              "          if (!dataTable) return;\n",
              "\n",
              "          const docLinkHtml = 'Like what you see? Visit the ' +\n",
              "            '<a target=\"_blank\" href=https://colab.research.google.com/notebooks/data_table.ipynb>data table notebook</a>'\n",
              "            + ' to learn more about interactive tables.';\n",
              "          element.innerHTML = '';\n",
              "          dataTable['output_type'] = 'display_data';\n",
              "          await google.colab.output.renderOutput(dataTable, element);\n",
              "          const docLink = document.createElement('div');\n",
              "          docLink.innerHTML = docLinkHtml;\n",
              "          element.appendChild(docLink);\n",
              "        }\n",
              "      </script>\n",
              "    </div>\n",
              "  </div>\n",
              "  "
            ],
            "text/plain": [
              "                          Hotel_name  \\\n",
              "Id                                     \n",
              "0                         Park Hyatt   \n",
              "1                     Hilton Chennai   \n",
              "2                  The Royal Regency   \n",
              "3                             Rivera   \n",
              "4                         Park Hyatt   \n",
              "...                              ...   \n",
              "2346           Hyatt Regency Chennai   \n",
              "2347                   New Woodlands   \n",
              "2348               Samudra Residency   \n",
              "2349           The Residency Chennai   \n",
              "2350  Cloud Nine Serviced Apartments   \n",
              "\n",
              "                                           Review_Title  \\\n",
              "Id                                                        \n",
              "0                                     Refuge in Chennai   \n",
              "1                                        Hilton Chennai   \n",
              "2     No worth the rating shown in websites. Pricing...   \n",
              "3                                             Good stay   \n",
              "4                                     Needs improvement   \n",
              "...                                                 ...   \n",
              "2346                              Hyatt Regency Chennai   \n",
              "2347                                       Homely villa   \n",
              "2348                  Nice accommodation and facilities   \n",
              "2349         The Residency Good Centrally located Hotel   \n",
              "2350                Homely stay with comfort and luxury   \n",
              "\n",
              "                                            Review_Text  Rating  \\\n",
              "Id                                                                \n",
              "0     Excellent room and exercise facility. All arou...    80.0   \n",
              "1     Very comfortable and felt safe. \\r\\nStaff were...   100.0   \n",
              "2     Not worth the rating shown. Service is not goo...    71.0   \n",
              "3     First of all nice & courteous staff, only one ...    86.0   \n",
              "4     Overall ambience of the hotel is very good. In...    86.0   \n",
              "...                                                 ...     ...   \n",
              "2346  Most impressive service by staff in all areas....    80.0   \n",
              "2347  New woodlands chennai which gave me a homely e...    71.0   \n",
              "2348  Awesome I liked the neatness and maintenance. ...   100.0   \n",
              "2349  The overall experience was good. However the w...    80.0   \n",
              "2350  Its a very cool and luxurious cottage to stay ...    71.0   \n",
              "\n",
              "                                            review_full  \n",
              "Id                                                       \n",
              "0     Refuge in Chennai Excellent room and exercise ...  \n",
              "1     Hilton Chennai Very comfortable and felt safe....  \n",
              "2     No worth the rating shown in websites. Pricing...  \n",
              "3     Good stay First of all nice & courteous staff,...  \n",
              "4     Needs improvement Overall ambience of the hote...  \n",
              "...                                                 ...  \n",
              "2346  Hyatt Regency Chennai Most impressive service ...  \n",
              "2347  Homely villa New woodlands chennai which gave ...  \n",
              "2348  Nice accommodation and facilities Awesome I li...  \n",
              "2349  The Residency Good Centrally located Hotel The...  \n",
              "2350  Homely stay with comfort and luxury Its a very...  \n",
              "\n",
              "[2351 rows x 5 columns]"
            ]
          },
          "execution_count": 147,
          "metadata": {},
          "output_type": "execute_result"
        }
      ],
      "source": [
        "train_df"
      ]
    },
    {
      "cell_type": "markdown",
      "metadata": {
        "id": "gb2XG-tctD_H"
      },
      "source": [
        "Оставим только слова через пробелы"
      ]
    },
    {
      "cell_type": "code",
      "execution_count": 148,
      "metadata": {
        "id": "N_9gfgjON0tu"
      },
      "outputs": [],
      "source": [
        "re_new_line = r'\\n(\\n)+'\n",
        "re_space_line = r'\\n( \\n)+'\n",
        "re_another_symbols = r'[^a-zA-Z ]' \n",
        "re_white_spaces = r' +'\n",
        "\n",
        "def re_sub(pair):\n",
        "    pair[\"review_full\"] = re.sub(re_another_symbols, '', pair[\"review_full\"])\n",
        "    pair[\"review_full\"] = re.sub(re_white_spaces, ' ', pair[\"review_full\"])\n",
        "    pair[\"review_full\"] = re.sub(re_space_line, ' ', pair[\"review_full\"])\n",
        "    pair[\"review_full\"] = re.sub(re_new_line, ' ', pair[\"review_full\"])\n",
        "    pair[\"review_full\"] = re.sub(r'\\n', ' ', pair[\"review_full\"])\n",
        "    pair[\"review_full\"] = re.sub(re_white_spaces, ' ', pair[\"review_full\"])\n",
        "    return pair\n",
        "\n",
        "df_resub = train_df.apply(re_sub, axis=1)"
      ]
    },
    {
      "cell_type": "markdown",
      "metadata": {
        "id": "OdRDNhsEtj5-"
      },
      "source": [
        "Токенизируем, лемматизируем..."
      ]
    },
    {
      "cell_type": "code",
      "execution_count": 149,
      "metadata": {
        "id": "iCg-jIlUTKDC"
      },
      "outputs": [],
      "source": [
        "def get_postag(pos_tag):\n",
        "    if pos_tag.startswith('J'):\n",
        "        return wordnet.ADJ\n",
        "    elif pos_tag.startswith('V'):\n",
        "        return wordnet.VERB\n",
        "    elif pos_tag.startswith('N'):\n",
        "        return wordnet.NOUN\n",
        "    elif pos_tag.startswith('R'):\n",
        "        return wordnet.ADV\n",
        "    else:\n",
        "        return wordnet.NOUN\n",
        "\n",
        "def clean_text(text):\n",
        "    text = text.lower()\n",
        "    text = [word for word in text.split(\" \")]\n",
        "    stop = stopwords.words('english')\n",
        "    text = [w for w in text if w not in stop]\n",
        "    text = [w for w in text if len(w) > 0]\n",
        "    pos_tags = pos_tag(text)\n",
        "    text = [WordNetLemmatizer().lemmatize(w[0], get_postag(w[1])) for w in pos_tags]\n",
        "    text = [w for w in text if len(w) > 1]\n",
        "    text = \" \".join(text)\n",
        "    return(text)\n",
        "\n",
        "\n",
        "df_resub['clean_text'] = df_resub[\"review_full\"].apply(lambda x: clean_text(x))"
      ]
    },
    {
      "cell_type": "code",
      "execution_count": 150,
      "metadata": {
        "colab": {
          "base_uri": "https://localhost:8080/",
          "height": 455
        },
        "id": "fkAAswrRDGDo",
        "outputId": "14caca9a-8f1e-4380-bc4f-fb2a8d8f2b73"
      },
      "outputs": [
        {
          "data": {
            "text/html": [
              "\n",
              "  <div id=\"df-b6f274b6-3c3d-466d-b03e-1ef625808725\">\n",
              "    <div class=\"colab-df-container\">\n",
              "      <div>\n",
              "<style scoped>\n",
              "    .dataframe tbody tr th:only-of-type {\n",
              "        vertical-align: middle;\n",
              "    }\n",
              "\n",
              "    .dataframe tbody tr th {\n",
              "        vertical-align: top;\n",
              "    }\n",
              "\n",
              "    .dataframe thead th {\n",
              "        text-align: right;\n",
              "    }\n",
              "</style>\n",
              "<table border=\"1\" class=\"dataframe\">\n",
              "  <thead>\n",
              "    <tr style=\"text-align: right;\">\n",
              "      <th></th>\n",
              "      <th>Hotel_name</th>\n",
              "      <th>Review_Title</th>\n",
              "      <th>Review_Text</th>\n",
              "      <th>Rating</th>\n",
              "      <th>review_full</th>\n",
              "      <th>clean_text</th>\n",
              "    </tr>\n",
              "    <tr>\n",
              "      <th>Id</th>\n",
              "      <th></th>\n",
              "      <th></th>\n",
              "      <th></th>\n",
              "      <th></th>\n",
              "      <th></th>\n",
              "      <th></th>\n",
              "    </tr>\n",
              "  </thead>\n",
              "  <tbody>\n",
              "    <tr>\n",
              "      <th>0</th>\n",
              "      <td>Park Hyatt</td>\n",
              "      <td>Refuge in Chennai</td>\n",
              "      <td>Excellent room and exercise facility. All arou...</td>\n",
              "      <td>80.0</td>\n",
              "      <td>Refuge in Chennai Excellent room and exercise ...</td>\n",
              "      <td>refuge chennai excellent room exercise facilit...</td>\n",
              "    </tr>\n",
              "    <tr>\n",
              "      <th>1</th>\n",
              "      <td>Hilton Chennai</td>\n",
              "      <td>Hilton Chennai</td>\n",
              "      <td>Very comfortable and felt safe. \\r\\nStaff were...</td>\n",
              "      <td>100.0</td>\n",
              "      <td>Hilton Chennai Very comfortable and felt safe ...</td>\n",
              "      <td>hilton chennai comfortable felt safe staff hel...</td>\n",
              "    </tr>\n",
              "    <tr>\n",
              "      <th>2</th>\n",
              "      <td>The Royal Regency</td>\n",
              "      <td>No worth the rating shown in websites. Pricing...</td>\n",
              "      <td>Not worth the rating shown. Service is not goo...</td>\n",
              "      <td>71.0</td>\n",
              "      <td>No worth the rating shown in websites Pricing ...</td>\n",
              "      <td>worth rating show website price ok worth ratin...</td>\n",
              "    </tr>\n",
              "    <tr>\n",
              "      <th>3</th>\n",
              "      <td>Rivera</td>\n",
              "      <td>Good stay</td>\n",
              "      <td>First of all nice &amp; courteous staff, only one ...</td>\n",
              "      <td>86.0</td>\n",
              "      <td>Good stay First of all nice courteous staff on...</td>\n",
              "      <td>good stay first nice courteous staff one con s...</td>\n",
              "    </tr>\n",
              "    <tr>\n",
              "      <th>4</th>\n",
              "      <td>Park Hyatt</td>\n",
              "      <td>Needs improvement</td>\n",
              "      <td>Overall ambience of the hotel is very good. In...</td>\n",
              "      <td>86.0</td>\n",
              "      <td>Needs improvement Overall ambience of the hote...</td>\n",
              "      <td>need improvement overall ambience hotel good r...</td>\n",
              "    </tr>\n",
              "    <tr>\n",
              "      <th>...</th>\n",
              "      <td>...</td>\n",
              "      <td>...</td>\n",
              "      <td>...</td>\n",
              "      <td>...</td>\n",
              "      <td>...</td>\n",
              "      <td>...</td>\n",
              "    </tr>\n",
              "    <tr>\n",
              "      <th>2346</th>\n",
              "      <td>Hyatt Regency Chennai</td>\n",
              "      <td>Hyatt Regency Chennai</td>\n",
              "      <td>Most impressive service by staff in all areas....</td>\n",
              "      <td>80.0</td>\n",
              "      <td>Hyatt Regency Chennai Most impressive service ...</td>\n",
              "      <td>hyatt regency chennai impressive service staff...</td>\n",
              "    </tr>\n",
              "    <tr>\n",
              "      <th>2347</th>\n",
              "      <td>New Woodlands</td>\n",
              "      <td>Homely villa</td>\n",
              "      <td>New woodlands chennai which gave me a homely e...</td>\n",
              "      <td>71.0</td>\n",
              "      <td>Homely villa New woodlands chennai which gave ...</td>\n",
              "      <td>homely villa new woodland chennai give homely ...</td>\n",
              "    </tr>\n",
              "    <tr>\n",
              "      <th>2348</th>\n",
              "      <td>Samudra Residency</td>\n",
              "      <td>Nice accommodation and facilities</td>\n",
              "      <td>Awesome I liked the neatness and maintenance. ...</td>\n",
              "      <td>100.0</td>\n",
              "      <td>Nice accommodation and facilities Awesome I li...</td>\n",
              "      <td>nice accommodation facility awesome liked neat...</td>\n",
              "    </tr>\n",
              "    <tr>\n",
              "      <th>2349</th>\n",
              "      <td>The Residency Chennai</td>\n",
              "      <td>The Residency Good Centrally located Hotel</td>\n",
              "      <td>The overall experience was good. However the w...</td>\n",
              "      <td>80.0</td>\n",
              "      <td>The Residency Good Centrally located Hotel The...</td>\n",
              "      <td>residency good centrally locate hotel overall ...</td>\n",
              "    </tr>\n",
              "    <tr>\n",
              "      <th>2350</th>\n",
              "      <td>Cloud Nine Serviced Apartments</td>\n",
              "      <td>Homely stay with comfort and luxury</td>\n",
              "      <td>Its a very cool and luxurious cottage to stay ...</td>\n",
              "      <td>71.0</td>\n",
              "      <td>Homely stay with comfort and luxury Its a very...</td>\n",
              "      <td>homely stay comfort luxury cool luxurious cott...</td>\n",
              "    </tr>\n",
              "  </tbody>\n",
              "</table>\n",
              "<p>2351 rows × 6 columns</p>\n",
              "</div>\n",
              "      <button class=\"colab-df-convert\" onclick=\"convertToInteractive('df-b6f274b6-3c3d-466d-b03e-1ef625808725')\"\n",
              "              title=\"Convert this dataframe to an interactive table.\"\n",
              "              style=\"display:none;\">\n",
              "        \n",
              "  <svg xmlns=\"http://www.w3.org/2000/svg\" height=\"24px\"viewBox=\"0 0 24 24\"\n",
              "       width=\"24px\">\n",
              "    <path d=\"M0 0h24v24H0V0z\" fill=\"none\"/>\n",
              "    <path d=\"M18.56 5.44l.94 2.06.94-2.06 2.06-.94-2.06-.94-.94-2.06-.94 2.06-2.06.94zm-11 1L8.5 8.5l.94-2.06 2.06-.94-2.06-.94L8.5 2.5l-.94 2.06-2.06.94zm10 10l.94 2.06.94-2.06 2.06-.94-2.06-.94-.94-2.06-.94 2.06-2.06.94z\"/><path d=\"M17.41 7.96l-1.37-1.37c-.4-.4-.92-.59-1.43-.59-.52 0-1.04.2-1.43.59L10.3 9.45l-7.72 7.72c-.78.78-.78 2.05 0 2.83L4 21.41c.39.39.9.59 1.41.59.51 0 1.02-.2 1.41-.59l7.78-7.78 2.81-2.81c.8-.78.8-2.07 0-2.86zM5.41 20L4 18.59l7.72-7.72 1.47 1.35L5.41 20z\"/>\n",
              "  </svg>\n",
              "      </button>\n",
              "      \n",
              "  <style>\n",
              "    .colab-df-container {\n",
              "      display:flex;\n",
              "      flex-wrap:wrap;\n",
              "      gap: 12px;\n",
              "    }\n",
              "\n",
              "    .colab-df-convert {\n",
              "      background-color: #E8F0FE;\n",
              "      border: none;\n",
              "      border-radius: 50%;\n",
              "      cursor: pointer;\n",
              "      display: none;\n",
              "      fill: #1967D2;\n",
              "      height: 32px;\n",
              "      padding: 0 0 0 0;\n",
              "      width: 32px;\n",
              "    }\n",
              "\n",
              "    .colab-df-convert:hover {\n",
              "      background-color: #E2EBFA;\n",
              "      box-shadow: 0px 1px 2px rgba(60, 64, 67, 0.3), 0px 1px 3px 1px rgba(60, 64, 67, 0.15);\n",
              "      fill: #174EA6;\n",
              "    }\n",
              "\n",
              "    [theme=dark] .colab-df-convert {\n",
              "      background-color: #3B4455;\n",
              "      fill: #D2E3FC;\n",
              "    }\n",
              "\n",
              "    [theme=dark] .colab-df-convert:hover {\n",
              "      background-color: #434B5C;\n",
              "      box-shadow: 0px 1px 3px 1px rgba(0, 0, 0, 0.15);\n",
              "      filter: drop-shadow(0px 1px 2px rgba(0, 0, 0, 0.3));\n",
              "      fill: #FFFFFF;\n",
              "    }\n",
              "  </style>\n",
              "\n",
              "      <script>\n",
              "        const buttonEl =\n",
              "          document.querySelector('#df-b6f274b6-3c3d-466d-b03e-1ef625808725 button.colab-df-convert');\n",
              "        buttonEl.style.display =\n",
              "          google.colab.kernel.accessAllowed ? 'block' : 'none';\n",
              "\n",
              "        async function convertToInteractive(key) {\n",
              "          const element = document.querySelector('#df-b6f274b6-3c3d-466d-b03e-1ef625808725');\n",
              "          const dataTable =\n",
              "            await google.colab.kernel.invokeFunction('convertToInteractive',\n",
              "                                                     [key], {});\n",
              "          if (!dataTable) return;\n",
              "\n",
              "          const docLinkHtml = 'Like what you see? Visit the ' +\n",
              "            '<a target=\"_blank\" href=https://colab.research.google.com/notebooks/data_table.ipynb>data table notebook</a>'\n",
              "            + ' to learn more about interactive tables.';\n",
              "          element.innerHTML = '';\n",
              "          dataTable['output_type'] = 'display_data';\n",
              "          await google.colab.output.renderOutput(dataTable, element);\n",
              "          const docLink = document.createElement('div');\n",
              "          docLink.innerHTML = docLinkHtml;\n",
              "          element.appendChild(docLink);\n",
              "        }\n",
              "      </script>\n",
              "    </div>\n",
              "  </div>\n",
              "  "
            ],
            "text/plain": [
              "                          Hotel_name  \\\n",
              "Id                                     \n",
              "0                         Park Hyatt   \n",
              "1                     Hilton Chennai   \n",
              "2                  The Royal Regency   \n",
              "3                             Rivera   \n",
              "4                         Park Hyatt   \n",
              "...                              ...   \n",
              "2346           Hyatt Regency Chennai   \n",
              "2347                   New Woodlands   \n",
              "2348               Samudra Residency   \n",
              "2349           The Residency Chennai   \n",
              "2350  Cloud Nine Serviced Apartments   \n",
              "\n",
              "                                           Review_Title  \\\n",
              "Id                                                        \n",
              "0                                     Refuge in Chennai   \n",
              "1                                        Hilton Chennai   \n",
              "2     No worth the rating shown in websites. Pricing...   \n",
              "3                                             Good stay   \n",
              "4                                     Needs improvement   \n",
              "...                                                 ...   \n",
              "2346                              Hyatt Regency Chennai   \n",
              "2347                                       Homely villa   \n",
              "2348                  Nice accommodation and facilities   \n",
              "2349         The Residency Good Centrally located Hotel   \n",
              "2350                Homely stay with comfort and luxury   \n",
              "\n",
              "                                            Review_Text  Rating  \\\n",
              "Id                                                                \n",
              "0     Excellent room and exercise facility. All arou...    80.0   \n",
              "1     Very comfortable and felt safe. \\r\\nStaff were...   100.0   \n",
              "2     Not worth the rating shown. Service is not goo...    71.0   \n",
              "3     First of all nice & courteous staff, only one ...    86.0   \n",
              "4     Overall ambience of the hotel is very good. In...    86.0   \n",
              "...                                                 ...     ...   \n",
              "2346  Most impressive service by staff in all areas....    80.0   \n",
              "2347  New woodlands chennai which gave me a homely e...    71.0   \n",
              "2348  Awesome I liked the neatness and maintenance. ...   100.0   \n",
              "2349  The overall experience was good. However the w...    80.0   \n",
              "2350  Its a very cool and luxurious cottage to stay ...    71.0   \n",
              "\n",
              "                                            review_full  \\\n",
              "Id                                                        \n",
              "0     Refuge in Chennai Excellent room and exercise ...   \n",
              "1     Hilton Chennai Very comfortable and felt safe ...   \n",
              "2     No worth the rating shown in websites Pricing ...   \n",
              "3     Good stay First of all nice courteous staff on...   \n",
              "4     Needs improvement Overall ambience of the hote...   \n",
              "...                                                 ...   \n",
              "2346  Hyatt Regency Chennai Most impressive service ...   \n",
              "2347  Homely villa New woodlands chennai which gave ...   \n",
              "2348  Nice accommodation and facilities Awesome I li...   \n",
              "2349  The Residency Good Centrally located Hotel The...   \n",
              "2350  Homely stay with comfort and luxury Its a very...   \n",
              "\n",
              "                                             clean_text  \n",
              "Id                                                       \n",
              "0     refuge chennai excellent room exercise facilit...  \n",
              "1     hilton chennai comfortable felt safe staff hel...  \n",
              "2     worth rating show website price ok worth ratin...  \n",
              "3     good stay first nice courteous staff one con s...  \n",
              "4     need improvement overall ambience hotel good r...  \n",
              "...                                                 ...  \n",
              "2346  hyatt regency chennai impressive service staff...  \n",
              "2347  homely villa new woodland chennai give homely ...  \n",
              "2348  nice accommodation facility awesome liked neat...  \n",
              "2349  residency good centrally locate hotel overall ...  \n",
              "2350  homely stay comfort luxury cool luxurious cott...  \n",
              "\n",
              "[2351 rows x 6 columns]"
            ]
          },
          "execution_count": 150,
          "metadata": {},
          "output_type": "execute_result"
        }
      ],
      "source": [
        "df_resub"
      ]
    },
    {
      "cell_type": "code",
      "execution_count": 151,
      "metadata": {
        "colab": {
          "base_uri": "https://localhost:8080/"
        },
        "id": "-vu2CFrWOYq2",
        "outputId": "dd87bd63-10f5-446f-fa3a-5f607cf93696"
      },
      "outputs": [
        {
          "data": {
            "text/plain": [
              "243"
            ]
          },
          "execution_count": 151,
          "metadata": {},
          "output_type": "execute_result"
        }
      ],
      "source": [
        "df_resub['Hotel_name'].nunique()"
      ]
    },
    {
      "cell_type": "code",
      "execution_count": 152,
      "metadata": {
        "id": "lLiSYBQ3uoGP"
      },
      "outputs": [],
      "source": [
        "from collections import Counter"
      ]
    },
    {
      "cell_type": "code",
      "execution_count": 153,
      "metadata": {
        "colab": {
          "base_uri": "https://localhost:8080/"
        },
        "id": "Q8jiAzEju1x6",
        "outputId": "6ede6a85-ae2e-4603-8b73-d985b3470ce5"
      },
      "outputs": [
        {
          "data": {
            "text/plain": [
              "[('The Park Chennai', 70),\n",
              " ('The Residency Towers', 61),\n",
              " ('Accord Metropolitan', 61),\n",
              " ('Radisson Blu GRT Chennai', 60),\n",
              " ('Savera', 56),\n",
              " ('Park Hyatt', 53),\n",
              " ('Raj Park Chennai', 52),\n",
              " ('Lemon Tree Chennai', 52),\n",
              " ('The Residency Chennai', 47),\n",
              " ('E Hotel', 47),\n",
              " ('Radisson Chennai City Centre, India', 46),\n",
              " ('ITC Grand Chola', 45),\n",
              " ('Peace Inn', 43),\n",
              " ('FabHotel Priyadarshini Park Mount Road', 38),\n",
              " ('The Raintree', 37),\n",
              " ('Hilton Chennai', 36),\n",
              " ('FabHotel Blossoms T Nagar', 30),\n",
              " (\"The Raintree, St. Mary's Road\", 29),\n",
              " ('Taj Club House', 25),\n",
              " ('Hyatt Regency Chennai', 22)]"
            ]
          },
          "execution_count": 153,
          "metadata": {},
          "output_type": "execute_result"
        }
      ],
      "source": [
        "Counter(df_resub['Hotel_name']).most_common()[:20]"
      ]
    },
    {
      "cell_type": "markdown",
      "metadata": {
        "id": "blNTekuPN1OR"
      },
      "source": [
        "Название отеля можно было бы использовать как категориальный признак, их относительно немного. Но потом их надо как=то к тестовой выборке добавить, учитывая обучающую. Да и на кроссвалидации они добавляют всего 0.5 к RMSE, так что просто удалим потом."
      ]
    },
    {
      "cell_type": "code",
      "execution_count": 154,
      "metadata": {
        "id": "S8f-tQm8Gwky"
      },
      "outputs": [],
      "source": [
        "# df_resub['hotel'] = (df_resub['Hotel_name'].astype('category').cat.rename_categories([i for i in range(df_resub['Hotel_name'].nunique())]).astype('int'))"
      ]
    },
    {
      "cell_type": "code",
      "execution_count": 155,
      "metadata": {
        "colab": {
          "base_uri": "https://localhost:8080/",
          "height": 282
        },
        "id": "6NKgszHtOR_o",
        "outputId": "1e54438e-591b-486b-dd96-d14b7f99d24d"
      },
      "outputs": [
        {
          "data": {
            "text/plain": [
              "<matplotlib.axes._subplots.AxesSubplot at 0x7f58c2d48a50>"
            ]
          },
          "execution_count": 155,
          "metadata": {},
          "output_type": "execute_result"
        },
        {
          "data": {
            "image/png": "[encoded data removed]",
            "text/plain": [
              "<Figure size 432x288 with 1 Axes>"
            ]
          },
          "metadata": {
            "needs_background": "light"
          },
          "output_type": "display_data"
        }
      ],
      "source": [
        "df_resub['Rating'].hist(bins=30)"
      ]
    },
    {
      "cell_type": "code",
      "execution_count": 156,
      "metadata": {
        "colab": {
          "base_uri": "https://localhost:8080/"
        },
        "id": "nLSICwXnP09y",
        "outputId": "fce62fd6-924b-47ea-8293-932945fb393c"
      },
      "outputs": [
        {
          "data": {
            "text/plain": [
              "11"
            ]
          },
          "execution_count": 156,
          "metadata": {},
          "output_type": "execute_result"
        }
      ],
      "source": [
        "df_resub['Rating'].nunique()"
      ]
    },
    {
      "cell_type": "code",
      "execution_count": 157,
      "metadata": {
        "colab": {
          "base_uri": "https://localhost:8080/"
        },
        "id": "zeEuDTUuQJ2r",
        "outputId": "8e18263e-6ae7-4456-cac1-70ecb67bc180"
      },
      "outputs": [
        {
          "data": {
            "text/plain": [
              "array([ 80., 100.,  71.,  86.,  40.,  57.,  43.,  20.,  60.,  65.,  29.])"
            ]
          },
          "execution_count": 157,
          "metadata": {},
          "output_type": "execute_result"
        }
      ],
      "source": [
        "df_resub['Rating'].unique()"
      ]
    },
    {
      "cell_type": "markdown",
      "metadata": {
        "id": "uZVA19kxQEQY"
      },
      "source": [
        "Странно, конечно... Ну пусть будет задача регрессии"
      ]
    },
    {
      "cell_type": "markdown",
      "metadata": {
        "id": "BEdQGDtHUD4L"
      },
      "source": [
        "Можно еще добавить длину отзыва"
      ]
    },
    {
      "cell_type": "code",
      "execution_count": 158,
      "metadata": {
        "id": "bIY62B6qQDD1"
      },
      "outputs": [],
      "source": [
        "df_resub['review_length'] = df_resub[\"clean_text\"].apply(lambda x: len(x))"
      ]
    },
    {
      "cell_type": "code",
      "execution_count": 159,
      "metadata": {
        "colab": {
          "base_uri": "https://localhost:8080/",
          "height": 499
        },
        "id": "uYSVSZ1ZUfzb",
        "outputId": "c896d957-3ef8-4aa3-89d8-abe192e6a9c9"
      },
      "outputs": [
        {
          "data": {
            "text/html": [
              "\n",
              "  <div id=\"df-efabe405-9080-4bf4-a05a-ba047a71e2d3\">\n",
              "    <div class=\"colab-df-container\">\n",
              "      <div>\n",
              "<style scoped>\n",
              "    .dataframe tbody tr th:only-of-type {\n",
              "        vertical-align: middle;\n",
              "    }\n",
              "\n",
              "    .dataframe tbody tr th {\n",
              "        vertical-align: top;\n",
              "    }\n",
              "\n",
              "    .dataframe thead th {\n",
              "        text-align: right;\n",
              "    }\n",
              "</style>\n",
              "<table border=\"1\" class=\"dataframe\">\n",
              "  <thead>\n",
              "    <tr style=\"text-align: right;\">\n",
              "      <th></th>\n",
              "      <th>Hotel_name</th>\n",
              "      <th>Review_Title</th>\n",
              "      <th>Review_Text</th>\n",
              "      <th>Rating</th>\n",
              "      <th>review_full</th>\n",
              "      <th>clean_text</th>\n",
              "      <th>review_length</th>\n",
              "    </tr>\n",
              "    <tr>\n",
              "      <th>Id</th>\n",
              "      <th></th>\n",
              "      <th></th>\n",
              "      <th></th>\n",
              "      <th></th>\n",
              "      <th></th>\n",
              "      <th></th>\n",
              "      <th></th>\n",
              "    </tr>\n",
              "  </thead>\n",
              "  <tbody>\n",
              "    <tr>\n",
              "      <th>0</th>\n",
              "      <td>Park Hyatt</td>\n",
              "      <td>Refuge in Chennai</td>\n",
              "      <td>Excellent room and exercise facility. All arou...</td>\n",
              "      <td>80.0</td>\n",
              "      <td>Refuge in Chennai Excellent room and exercise ...</td>\n",
              "      <td>refuge chennai excellent room exercise facilit...</td>\n",
              "      <td>181</td>\n",
              "    </tr>\n",
              "    <tr>\n",
              "      <th>1</th>\n",
              "      <td>Hilton Chennai</td>\n",
              "      <td>Hilton Chennai</td>\n",
              "      <td>Very comfortable and felt safe. \\r\\nStaff were...</td>\n",
              "      <td>100.0</td>\n",
              "      <td>Hilton Chennai Very comfortable and felt safe ...</td>\n",
              "      <td>hilton chennai comfortable felt safe staff hel...</td>\n",
              "      <td>135</td>\n",
              "    </tr>\n",
              "    <tr>\n",
              "      <th>2</th>\n",
              "      <td>The Royal Regency</td>\n",
              "      <td>No worth the rating shown in websites. Pricing...</td>\n",
              "      <td>Not worth the rating shown. Service is not goo...</td>\n",
              "      <td>71.0</td>\n",
              "      <td>No worth the rating shown in websites Pricing ...</td>\n",
              "      <td>worth rating show website price ok worth ratin...</td>\n",
              "      <td>220</td>\n",
              "    </tr>\n",
              "    <tr>\n",
              "      <th>3</th>\n",
              "      <td>Rivera</td>\n",
              "      <td>Good stay</td>\n",
              "      <td>First of all nice &amp; courteous staff, only one ...</td>\n",
              "      <td>86.0</td>\n",
              "      <td>Good stay First of all nice courteous staff on...</td>\n",
              "      <td>good stay first nice courteous staff one con s...</td>\n",
              "      <td>159</td>\n",
              "    </tr>\n",
              "    <tr>\n",
              "      <th>4</th>\n",
              "      <td>Park Hyatt</td>\n",
              "      <td>Needs improvement</td>\n",
              "      <td>Overall ambience of the hotel is very good. In...</td>\n",
              "      <td>86.0</td>\n",
              "      <td>Needs improvement Overall ambience of the hote...</td>\n",
              "      <td>need improvement overall ambience hotel good r...</td>\n",
              "      <td>178</td>\n",
              "    </tr>\n",
              "    <tr>\n",
              "      <th>...</th>\n",
              "      <td>...</td>\n",
              "      <td>...</td>\n",
              "      <td>...</td>\n",
              "      <td>...</td>\n",
              "      <td>...</td>\n",
              "      <td>...</td>\n",
              "      <td>...</td>\n",
              "    </tr>\n",
              "    <tr>\n",
              "      <th>2346</th>\n",
              "      <td>Hyatt Regency Chennai</td>\n",
              "      <td>Hyatt Regency Chennai</td>\n",
              "      <td>Most impressive service by staff in all areas....</td>\n",
              "      <td>80.0</td>\n",
              "      <td>Hyatt Regency Chennai Most impressive service ...</td>\n",
              "      <td>hyatt regency chennai impressive service staff...</td>\n",
              "      <td>267</td>\n",
              "    </tr>\n",
              "    <tr>\n",
              "      <th>2347</th>\n",
              "      <td>New Woodlands</td>\n",
              "      <td>Homely villa</td>\n",
              "      <td>New woodlands chennai which gave me a homely e...</td>\n",
              "      <td>71.0</td>\n",
              "      <td>Homely villa New woodlands chennai which gave ...</td>\n",
              "      <td>homely villa new woodland chennai give homely ...</td>\n",
              "      <td>280</td>\n",
              "    </tr>\n",
              "    <tr>\n",
              "      <th>2348</th>\n",
              "      <td>Samudra Residency</td>\n",
              "      <td>Nice accommodation and facilities</td>\n",
              "      <td>Awesome I liked the neatness and maintenance. ...</td>\n",
              "      <td>100.0</td>\n",
              "      <td>Nice accommodation and facilities Awesome I li...</td>\n",
              "      <td>nice accommodation facility awesome liked neat...</td>\n",
              "      <td>178</td>\n",
              "    </tr>\n",
              "    <tr>\n",
              "      <th>2349</th>\n",
              "      <td>The Residency Chennai</td>\n",
              "      <td>The Residency Good Centrally located Hotel</td>\n",
              "      <td>The overall experience was good. However the w...</td>\n",
              "      <td>80.0</td>\n",
              "      <td>The Residency Good Centrally located Hotel The...</td>\n",
              "      <td>residency good centrally locate hotel overall ...</td>\n",
              "      <td>115</td>\n",
              "    </tr>\n",
              "    <tr>\n",
              "      <th>2350</th>\n",
              "      <td>Cloud Nine Serviced Apartments</td>\n",
              "      <td>Homely stay with comfort and luxury</td>\n",
              "      <td>Its a very cool and luxurious cottage to stay ...</td>\n",
              "      <td>71.0</td>\n",
              "      <td>Homely stay with comfort and luxury Its a very...</td>\n",
              "      <td>homely stay comfort luxury cool luxurious cott...</td>\n",
              "      <td>240</td>\n",
              "    </tr>\n",
              "  </tbody>\n",
              "</table>\n",
              "<p>2351 rows × 7 columns</p>\n",
              "</div>\n",
              "      <button class=\"colab-df-convert\" onclick=\"convertToInteractive('df-efabe405-9080-4bf4-a05a-ba047a71e2d3')\"\n",
              "              title=\"Convert this dataframe to an interactive table.\"\n",
              "              style=\"display:none;\">\n",
              "        \n",
              "  <svg xmlns=\"http://www.w3.org/2000/svg\" height=\"24px\"viewBox=\"0 0 24 24\"\n",
              "       width=\"24px\">\n",
              "    <path d=\"M0 0h24v24H0V0z\" fill=\"none\"/>\n",
              "    <path d=\"M18.56 5.44l.94 2.06.94-2.06 2.06-.94-2.06-.94-.94-2.06-.94 2.06-2.06.94zm-11 1L8.5 8.5l.94-2.06 2.06-.94-2.06-.94L8.5 2.5l-.94 2.06-2.06.94zm10 10l.94 2.06.94-2.06 2.06-.94-2.06-.94-.94-2.06-.94 2.06-2.06.94z\"/><path d=\"M17.41 7.96l-1.37-1.37c-.4-.4-.92-.59-1.43-.59-.52 0-1.04.2-1.43.59L10.3 9.45l-7.72 7.72c-.78.78-.78 2.05 0 2.83L4 21.41c.39.39.9.59 1.41.59.51 0 1.02-.2 1.41-.59l7.78-7.78 2.81-2.81c.8-.78.8-2.07 0-2.86zM5.41 20L4 18.59l7.72-7.72 1.47 1.35L5.41 20z\"/>\n",
              "  </svg>\n",
              "      </button>\n",
              "      \n",
              "  <style>\n",
              "    .colab-df-container {\n",
              "      display:flex;\n",
              "      flex-wrap:wrap;\n",
              "      gap: 12px;\n",
              "    }\n",
              "\n",
              "    .colab-df-convert {\n",
              "      background-color: #E8F0FE;\n",
              "      border: none;\n",
              "      border-radius: 50%;\n",
              "      cursor: pointer;\n",
              "      display: none;\n",
              "      fill: #1967D2;\n",
              "      height: 32px;\n",
              "      padding: 0 0 0 0;\n",
              "      width: 32px;\n",
              "    }\n",
              "\n",
              "    .colab-df-convert:hover {\n",
              "      background-color: #E2EBFA;\n",
              "      box-shadow: 0px 1px 2px rgba(60, 64, 67, 0.3), 0px 1px 3px 1px rgba(60, 64, 67, 0.15);\n",
              "      fill: #174EA6;\n",
              "    }\n",
              "\n",
              "    [theme=dark] .colab-df-convert {\n",
              "      background-color: #3B4455;\n",
              "      fill: #D2E3FC;\n",
              "    }\n",
              "\n",
              "    [theme=dark] .colab-df-convert:hover {\n",
              "      background-color: #434B5C;\n",
              "      box-shadow: 0px 1px 3px 1px rgba(0, 0, 0, 0.15);\n",
              "      filter: drop-shadow(0px 1px 2px rgba(0, 0, 0, 0.3));\n",
              "      fill: #FFFFFF;\n",
              "    }\n",
              "  </style>\n",
              "\n",
              "      <script>\n",
              "        const buttonEl =\n",
              "          document.querySelector('#df-efabe405-9080-4bf4-a05a-ba047a71e2d3 button.colab-df-convert');\n",
              "        buttonEl.style.display =\n",
              "          google.colab.kernel.accessAllowed ? 'block' : 'none';\n",
              "\n",
              "        async function convertToInteractive(key) {\n",
              "          const element = document.querySelector('#df-efabe405-9080-4bf4-a05a-ba047a71e2d3');\n",
              "          const dataTable =\n",
              "            await google.colab.kernel.invokeFunction('convertToInteractive',\n",
              "                                                     [key], {});\n",
              "          if (!dataTable) return;\n",
              "\n",
              "          const docLinkHtml = 'Like what you see? Visit the ' +\n",
              "            '<a target=\"_blank\" href=https://colab.research.google.com/notebooks/data_table.ipynb>data table notebook</a>'\n",
              "            + ' to learn more about interactive tables.';\n",
              "          element.innerHTML = '';\n",
              "          dataTable['output_type'] = 'display_data';\n",
              "          await google.colab.output.renderOutput(dataTable, element);\n",
              "          const docLink = document.createElement('div');\n",
              "          docLink.innerHTML = docLinkHtml;\n",
              "          element.appendChild(docLink);\n",
              "        }\n",
              "      </script>\n",
              "    </div>\n",
              "  </div>\n",
              "  "
            ],
            "text/plain": [
              "                          Hotel_name  \\\n",
              "Id                                     \n",
              "0                         Park Hyatt   \n",
              "1                     Hilton Chennai   \n",
              "2                  The Royal Regency   \n",
              "3                             Rivera   \n",
              "4                         Park Hyatt   \n",
              "...                              ...   \n",
              "2346           Hyatt Regency Chennai   \n",
              "2347                   New Woodlands   \n",
              "2348               Samudra Residency   \n",
              "2349           The Residency Chennai   \n",
              "2350  Cloud Nine Serviced Apartments   \n",
              "\n",
              "                                           Review_Title  \\\n",
              "Id                                                        \n",
              "0                                     Refuge in Chennai   \n",
              "1                                        Hilton Chennai   \n",
              "2     No worth the rating shown in websites. Pricing...   \n",
              "3                                             Good stay   \n",
              "4                                     Needs improvement   \n",
              "...                                                 ...   \n",
              "2346                              Hyatt Regency Chennai   \n",
              "2347                                       Homely villa   \n",
              "2348                  Nice accommodation and facilities   \n",
              "2349         The Residency Good Centrally located Hotel   \n",
              "2350                Homely stay with comfort and luxury   \n",
              "\n",
              "                                            Review_Text  Rating  \\\n",
              "Id                                                                \n",
              "0     Excellent room and exercise facility. All arou...    80.0   \n",
              "1     Very comfortable and felt safe. \\r\\nStaff were...   100.0   \n",
              "2     Not worth the rating shown. Service is not goo...    71.0   \n",
              "3     First of all nice & courteous staff, only one ...    86.0   \n",
              "4     Overall ambience of the hotel is very good. In...    86.0   \n",
              "...                                                 ...     ...   \n",
              "2346  Most impressive service by staff in all areas....    80.0   \n",
              "2347  New woodlands chennai which gave me a homely e...    71.0   \n",
              "2348  Awesome I liked the neatness and maintenance. ...   100.0   \n",
              "2349  The overall experience was good. However the w...    80.0   \n",
              "2350  Its a very cool and luxurious cottage to stay ...    71.0   \n",
              "\n",
              "                                            review_full  \\\n",
              "Id                                                        \n",
              "0     Refuge in Chennai Excellent room and exercise ...   \n",
              "1     Hilton Chennai Very comfortable and felt safe ...   \n",
              "2     No worth the rating shown in websites Pricing ...   \n",
              "3     Good stay First of all nice courteous staff on...   \n",
              "4     Needs improvement Overall ambience of the hote...   \n",
              "...                                                 ...   \n",
              "2346  Hyatt Regency Chennai Most impressive service ...   \n",
              "2347  Homely villa New woodlands chennai which gave ...   \n",
              "2348  Nice accommodation and facilities Awesome I li...   \n",
              "2349  The Residency Good Centrally located Hotel The...   \n",
              "2350  Homely stay with comfort and luxury Its a very...   \n",
              "\n",
              "                                             clean_text  review_length  \n",
              "Id                                                                      \n",
              "0     refuge chennai excellent room exercise facilit...            181  \n",
              "1     hilton chennai comfortable felt safe staff hel...            135  \n",
              "2     worth rating show website price ok worth ratin...            220  \n",
              "3     good stay first nice courteous staff one con s...            159  \n",
              "4     need improvement overall ambience hotel good r...            178  \n",
              "...                                                 ...            ...  \n",
              "2346  hyatt regency chennai impressive service staff...            267  \n",
              "2347  homely villa new woodland chennai give homely ...            280  \n",
              "2348  nice accommodation facility awesome liked neat...            178  \n",
              "2349  residency good centrally locate hotel overall ...            115  \n",
              "2350  homely stay comfort luxury cool luxurious cott...            240  \n",
              "\n",
              "[2351 rows x 7 columns]"
            ]
          },
          "execution_count": 159,
          "metadata": {},
          "output_type": "execute_result"
        }
      ],
      "source": [
        "df_resub"
      ]
    },
    {
      "cell_type": "markdown",
      "metadata": {
        "id": "hj3zjO0_WjYV"
      },
      "source": [
        "Теперь можно уже дропнуть исходные столбики"
      ]
    },
    {
      "cell_type": "code",
      "execution_count": 160,
      "metadata": {
        "id": "GqIBemCpUkFW"
      },
      "outputs": [],
      "source": [
        "df_drop = df_resub.drop(columns=['Hotel_name', 'Review_Title', 'Review_Text', 'review_full'])"
      ]
    },
    {
      "cell_type": "markdown",
      "metadata": {
        "id": "3em_Ubp9XET5"
      },
      "source": [
        "Зачем-то нам дали негативные и положительные слова... Можно как-то использовать. К примеру, посчитать соотношение положительных и негативных слов"
      ]
    },
    {
      "cell_type": "code",
      "execution_count": 161,
      "metadata": {
        "id": "Hy-455bbYnyA"
      },
      "outputs": [],
      "source": [
        "with open('/content/drive/MyDrive/Programming/negative-words.txt', 'r', encoding='ISO-8859-1') as f:\n",
        "    neg_words_list = [w.rstrip('\\n') for w in f.readlines()]\n",
        "with open('/content/drive/MyDrive/Programming/positive-words.txt', 'r', encoding='ISO-8859-1') as f:\n",
        "    pos_words_list = [w.rstrip('\\n') for w in f.readlines()]"
      ]
    },
    {
      "cell_type": "code",
      "execution_count": 162,
      "metadata": {
        "colab": {
          "base_uri": "https://localhost:8080/"
        },
        "id": "Ai9d3YbuZFI_",
        "outputId": "a9a826a4-fc6e-420d-d2d2-9d73937f2a2f"
      },
      "outputs": [
        {
          "data": {
            "text/plain": [
              "(['2-faced',\n",
              "  '2-faces',\n",
              "  'abnormal',\n",
              "  'abolish',\n",
              "  'abominable',\n",
              "  'abominably',\n",
              "  'abominate',\n",
              "  'abomination',\n",
              "  'abort',\n",
              "  'aborted'],\n",
              " ['a+',\n",
              "  'abound',\n",
              "  'abounds',\n",
              "  'abundance',\n",
              "  'abundant',\n",
              "  'accessable',\n",
              "  'accessible',\n",
              "  'acclaim',\n",
              "  'acclaimed',\n",
              "  'acclamation'])"
            ]
          },
          "execution_count": 162,
          "metadata": {},
          "output_type": "execute_result"
        }
      ],
      "source": [
        "neg_words_list[:10], pos_words_list[:10], "
      ]
    },
    {
      "cell_type": "code",
      "execution_count": 163,
      "metadata": {
        "id": "o3Kq7cJBW146"
      },
      "outputs": [],
      "source": [
        "def pos_neg_words(text):\n",
        "    neg_words = 0\n",
        "    pos_words = 0\n",
        "    text_spl = text.split()\n",
        "    for word in text_spl:\n",
        "        if word in neg_words_list:\n",
        "            neg_words += 1\n",
        "        elif word in pos_words_list:\n",
        "            pos_words += 1\n",
        "    if len(text_spl):\n",
        "        return (pos_words / len(text_spl), neg_words / len(text_spl))\n",
        "    else:\n",
        "        return (0.0, 0.0)"
      ]
    },
    {
      "cell_type": "code",
      "execution_count": 164,
      "metadata": {
        "id": "xVLiblThlK9J"
      },
      "outputs": [],
      "source": [
        "pos_neg = df_drop[\"clean_text\"].apply(lambda x: pos_neg_words(x))"
      ]
    },
    {
      "cell_type": "code",
      "execution_count": 165,
      "metadata": {
        "id": "Rh_3ARWdeMjA"
      },
      "outputs": [],
      "source": [
        "neg_list_rate = pos_neg.apply(lambda x: x[0])\n",
        "pos_list_rate = pos_neg.apply(lambda x: x[1])"
      ]
    },
    {
      "cell_type": "code",
      "execution_count": 166,
      "metadata": {
        "id": "2qg5SkiYdHwJ"
      },
      "outputs": [],
      "source": [
        "df_drop[\"positive_ratio\"], df_drop[\"negative_ratio\"] = pos_list_rate, neg_list_rate"
      ]
    },
    {
      "cell_type": "code",
      "execution_count": 167,
      "metadata": {
        "colab": {
          "base_uri": "https://localhost:8080/",
          "height": 455
        },
        "id": "_Vps7Km2mB9f",
        "outputId": "902c6886-4f52-4197-f849-a288493af779"
      },
      "outputs": [
        {
          "data": {
            "text/html": [
              "\n",
              "  <div id=\"df-2bcbe3ac-aa2c-43d5-858d-84b59df5ab7b\">\n",
              "    <div class=\"colab-df-container\">\n",
              "      <div>\n",
              "<style scoped>\n",
              "    .dataframe tbody tr th:only-of-type {\n",
              "        vertical-align: middle;\n",
              "    }\n",
              "\n",
              "    .dataframe tbody tr th {\n",
              "        vertical-align: top;\n",
              "    }\n",
              "\n",
              "    .dataframe thead th {\n",
              "        text-align: right;\n",
              "    }\n",
              "</style>\n",
              "<table border=\"1\" class=\"dataframe\">\n",
              "  <thead>\n",
              "    <tr style=\"text-align: right;\">\n",
              "      <th></th>\n",
              "      <th>Rating</th>\n",
              "      <th>clean_text</th>\n",
              "      <th>review_length</th>\n",
              "      <th>positive_ratio</th>\n",
              "      <th>negative_ratio</th>\n",
              "    </tr>\n",
              "    <tr>\n",
              "      <th>Id</th>\n",
              "      <th></th>\n",
              "      <th></th>\n",
              "      <th></th>\n",
              "      <th></th>\n",
              "      <th></th>\n",
              "    </tr>\n",
              "  </thead>\n",
              "  <tbody>\n",
              "    <tr>\n",
              "      <th>0</th>\n",
              "      <td>80.0</td>\n",
              "      <td>refuge chennai excellent room exercise facilit...</td>\n",
              "      <td>181</td>\n",
              "      <td>0.000000</td>\n",
              "      <td>0.160000</td>\n",
              "    </tr>\n",
              "    <tr>\n",
              "      <th>1</th>\n",
              "      <td>100.0</td>\n",
              "      <td>hilton chennai comfortable felt safe staff hel...</td>\n",
              "      <td>135</td>\n",
              "      <td>0.000000</td>\n",
              "      <td>0.210526</td>\n",
              "    </tr>\n",
              "    <tr>\n",
              "      <th>2</th>\n",
              "      <td>71.0</td>\n",
              "      <td>worth rating show website price ok worth ratin...</td>\n",
              "      <td>220</td>\n",
              "      <td>0.029412</td>\n",
              "      <td>0.264706</td>\n",
              "    </tr>\n",
              "    <tr>\n",
              "      <th>3</th>\n",
              "      <td>86.0</td>\n",
              "      <td>good stay first nice courteous staff one con s...</td>\n",
              "      <td>159</td>\n",
              "      <td>0.086957</td>\n",
              "      <td>0.217391</td>\n",
              "    </tr>\n",
              "    <tr>\n",
              "      <th>4</th>\n",
              "      <td>86.0</td>\n",
              "      <td>need improvement overall ambience hotel good r...</td>\n",
              "      <td>178</td>\n",
              "      <td>0.000000</td>\n",
              "      <td>0.120000</td>\n",
              "    </tr>\n",
              "    <tr>\n",
              "      <th>...</th>\n",
              "      <td>...</td>\n",
              "      <td>...</td>\n",
              "      <td>...</td>\n",
              "      <td>...</td>\n",
              "      <td>...</td>\n",
              "    </tr>\n",
              "    <tr>\n",
              "      <th>2346</th>\n",
              "      <td>80.0</td>\n",
              "      <td>hyatt regency chennai impressive service staff...</td>\n",
              "      <td>267</td>\n",
              "      <td>0.000000</td>\n",
              "      <td>0.230769</td>\n",
              "    </tr>\n",
              "    <tr>\n",
              "      <th>2347</th>\n",
              "      <td>71.0</td>\n",
              "      <td>homely villa new woodland chennai give homely ...</td>\n",
              "      <td>280</td>\n",
              "      <td>0.000000</td>\n",
              "      <td>0.157895</td>\n",
              "    </tr>\n",
              "    <tr>\n",
              "      <th>2348</th>\n",
              "      <td>100.0</td>\n",
              "      <td>nice accommodation facility awesome liked neat...</td>\n",
              "      <td>178</td>\n",
              "      <td>0.000000</td>\n",
              "      <td>0.318182</td>\n",
              "    </tr>\n",
              "    <tr>\n",
              "      <th>2349</th>\n",
              "      <td>80.0</td>\n",
              "      <td>residency good centrally locate hotel overall ...</td>\n",
              "      <td>115</td>\n",
              "      <td>0.062500</td>\n",
              "      <td>0.125000</td>\n",
              "    </tr>\n",
              "    <tr>\n",
              "      <th>2350</th>\n",
              "      <td>71.0</td>\n",
              "      <td>homely stay comfort luxury cool luxurious cott...</td>\n",
              "      <td>240</td>\n",
              "      <td>0.000000</td>\n",
              "      <td>0.222222</td>\n",
              "    </tr>\n",
              "  </tbody>\n",
              "</table>\n",
              "<p>2351 rows × 5 columns</p>\n",
              "</div>\n",
              "      <button class=\"colab-df-convert\" onclick=\"convertToInteractive('df-2bcbe3ac-aa2c-43d5-858d-84b59df5ab7b')\"\n",
              "              title=\"Convert this dataframe to an interactive table.\"\n",
              "              style=\"display:none;\">\n",
              "        \n",
              "  <svg xmlns=\"http://www.w3.org/2000/svg\" height=\"24px\"viewBox=\"0 0 24 24\"\n",
              "       width=\"24px\">\n",
              "    <path d=\"M0 0h24v24H0V0z\" fill=\"none\"/>\n",
              "    <path d=\"M18.56 5.44l.94 2.06.94-2.06 2.06-.94-2.06-.94-.94-2.06-.94 2.06-2.06.94zm-11 1L8.5 8.5l.94-2.06 2.06-.94-2.06-.94L8.5 2.5l-.94 2.06-2.06.94zm10 10l.94 2.06.94-2.06 2.06-.94-2.06-.94-.94-2.06-.94 2.06-2.06.94z\"/><path d=\"M17.41 7.96l-1.37-1.37c-.4-.4-.92-.59-1.43-.59-.52 0-1.04.2-1.43.59L10.3 9.45l-7.72 7.72c-.78.78-.78 2.05 0 2.83L4 21.41c.39.39.9.59 1.41.59.51 0 1.02-.2 1.41-.59l7.78-7.78 2.81-2.81c.8-.78.8-2.07 0-2.86zM5.41 20L4 18.59l7.72-7.72 1.47 1.35L5.41 20z\"/>\n",
              "  </svg>\n",
              "      </button>\n",
              "      \n",
              "  <style>\n",
              "    .colab-df-container {\n",
              "      display:flex;\n",
              "      flex-wrap:wrap;\n",
              "      gap: 12px;\n",
              "    }\n",
              "\n",
              "    .colab-df-convert {\n",
              "      background-color: #E8F0FE;\n",
              "      border: none;\n",
              "      border-radius: 50%;\n",
              "      cursor: pointer;\n",
              "      display: none;\n",
              "      fill: #1967D2;\n",
              "      height: 32px;\n",
              "      padding: 0 0 0 0;\n",
              "      width: 32px;\n",
              "    }\n",
              "\n",
              "    .colab-df-convert:hover {\n",
              "      background-color: #E2EBFA;\n",
              "      box-shadow: 0px 1px 2px rgba(60, 64, 67, 0.3), 0px 1px 3px 1px rgba(60, 64, 67, 0.15);\n",
              "      fill: #174EA6;\n",
              "    }\n",
              "\n",
              "    [theme=dark] .colab-df-convert {\n",
              "      background-color: #3B4455;\n",
              "      fill: #D2E3FC;\n",
              "    }\n",
              "\n",
              "    [theme=dark] .colab-df-convert:hover {\n",
              "      background-color: #434B5C;\n",
              "      box-shadow: 0px 1px 3px 1px rgba(0, 0, 0, 0.15);\n",
              "      filter: drop-shadow(0px 1px 2px rgba(0, 0, 0, 0.3));\n",
              "      fill: #FFFFFF;\n",
              "    }\n",
              "  </style>\n",
              "\n",
              "      <script>\n",
              "        const buttonEl =\n",
              "          document.querySelector('#df-2bcbe3ac-aa2c-43d5-858d-84b59df5ab7b button.colab-df-convert');\n",
              "        buttonEl.style.display =\n",
              "          google.colab.kernel.accessAllowed ? 'block' : 'none';\n",
              "\n",
              "        async function convertToInteractive(key) {\n",
              "          const element = document.querySelector('#df-2bcbe3ac-aa2c-43d5-858d-84b59df5ab7b');\n",
              "          const dataTable =\n",
              "            await google.colab.kernel.invokeFunction('convertToInteractive',\n",
              "                                                     [key], {});\n",
              "          if (!dataTable) return;\n",
              "\n",
              "          const docLinkHtml = 'Like what you see? Visit the ' +\n",
              "            '<a target=\"_blank\" href=https://colab.research.google.com/notebooks/data_table.ipynb>data table notebook</a>'\n",
              "            + ' to learn more about interactive tables.';\n",
              "          element.innerHTML = '';\n",
              "          dataTable['output_type'] = 'display_data';\n",
              "          await google.colab.output.renderOutput(dataTable, element);\n",
              "          const docLink = document.createElement('div');\n",
              "          docLink.innerHTML = docLinkHtml;\n",
              "          element.appendChild(docLink);\n",
              "        }\n",
              "      </script>\n",
              "    </div>\n",
              "  </div>\n",
              "  "
            ],
            "text/plain": [
              "      Rating                                         clean_text  \\\n",
              "Id                                                                \n",
              "0       80.0  refuge chennai excellent room exercise facilit...   \n",
              "1      100.0  hilton chennai comfortable felt safe staff hel...   \n",
              "2       71.0  worth rating show website price ok worth ratin...   \n",
              "3       86.0  good stay first nice courteous staff one con s...   \n",
              "4       86.0  need improvement overall ambience hotel good r...   \n",
              "...      ...                                                ...   \n",
              "2346    80.0  hyatt regency chennai impressive service staff...   \n",
              "2347    71.0  homely villa new woodland chennai give homely ...   \n",
              "2348   100.0  nice accommodation facility awesome liked neat...   \n",
              "2349    80.0  residency good centrally locate hotel overall ...   \n",
              "2350    71.0  homely stay comfort luxury cool luxurious cott...   \n",
              "\n",
              "      review_length  positive_ratio  negative_ratio  \n",
              "Id                                                   \n",
              "0               181        0.000000        0.160000  \n",
              "1               135        0.000000        0.210526  \n",
              "2               220        0.029412        0.264706  \n",
              "3               159        0.086957        0.217391  \n",
              "4               178        0.000000        0.120000  \n",
              "...             ...             ...             ...  \n",
              "2346            267        0.000000        0.230769  \n",
              "2347            280        0.000000        0.157895  \n",
              "2348            178        0.000000        0.318182  \n",
              "2349            115        0.062500        0.125000  \n",
              "2350            240        0.000000        0.222222  \n",
              "\n",
              "[2351 rows x 5 columns]"
            ]
          },
          "execution_count": 167,
          "metadata": {},
          "output_type": "execute_result"
        }
      ],
      "source": [
        "df_drop"
      ]
    },
    {
      "cell_type": "code",
      "execution_count": 168,
      "metadata": {
        "id": "9027fmQ1oJJq"
      },
      "outputs": [],
      "source": [
        "df_drop.to_csv('/content/drive/MyDrive/Programming/train_df_off.csv')"
      ]
    },
    {
      "cell_type": "markdown",
      "metadata": {
        "id": "AWv4BrGCn3cJ"
      },
      "source": [
        "Попробуем CountVectorizer"
      ]
    },
    {
      "cell_type": "code",
      "execution_count": 169,
      "metadata": {
        "id": "UbS8d5cupDuA"
      },
      "outputs": [],
      "source": [
        "from sklearn.linear_model import LinearRegression\n",
        "from sklearn.ensemble import RandomForestRegressor\n",
        "from sklearn.model_selection import cross_val_score"
      ]
    },
    {
      "cell_type": "code",
      "execution_count": 170,
      "metadata": {
        "id": "vbnN7AQtvndC"
      },
      "outputs": [],
      "source": [
        "import warnings\n",
        "warnings.filterwarnings(\"ignore\")"
      ]
    },
    {
      "cell_type": "code",
      "execution_count": 171,
      "metadata": {
        "id": "7-yMkj0Lp12S"
      },
      "outputs": [],
      "source": [
        "y = df_drop['Rating']\n",
        "linreg_cv = LinearRegression()\n",
        "rfr_cv = RandomForestRegressor()\n",
        "linreg_num = LinearRegression()\n",
        "rfr_num = RandomForestRegressor()\n",
        "count_vect = CountVectorizer(ngram_range=(1,2))\n",
        "tfidf = TfidfVectorizer(ngram_range=(1,2))"
      ]
    },
    {
      "cell_type": "code",
      "execution_count": 172,
      "metadata": {
        "id": "n4JVOo9QtaVx"
      },
      "outputs": [],
      "source": [
        "X_text_cv = count_vect.fit_transform(df_drop['clean_text'])"
      ]
    },
    {
      "cell_type": "code",
      "execution_count": 173,
      "metadata": {
        "id": "FoVd22xDwNFW"
      },
      "outputs": [],
      "source": [
        "X_num = df_drop.drop(columns=['Rating', 'clean_text'])"
      ]
    },
    {
      "cell_type": "code",
      "execution_count": 174,
      "metadata": {
        "colab": {
          "base_uri": "https://localhost:8080/",
          "height": 455
        },
        "id": "MU4GlCLTwBcR",
        "outputId": "b00bb6c6-9d19-4b67-83ae-d733a826af93"
      },
      "outputs": [
        {
          "data": {
            "text/html": [
              "\n",
              "  <div id=\"df-6a607fbf-c71f-4ba0-9072-6c1d1628f6f7\">\n",
              "    <div class=\"colab-df-container\">\n",
              "      <div>\n",
              "<style scoped>\n",
              "    .dataframe tbody tr th:only-of-type {\n",
              "        vertical-align: middle;\n",
              "    }\n",
              "\n",
              "    .dataframe tbody tr th {\n",
              "        vertical-align: top;\n",
              "    }\n",
              "\n",
              "    .dataframe thead th {\n",
              "        text-align: right;\n",
              "    }\n",
              "</style>\n",
              "<table border=\"1\" class=\"dataframe\">\n",
              "  <thead>\n",
              "    <tr style=\"text-align: right;\">\n",
              "      <th></th>\n",
              "      <th>review_length</th>\n",
              "      <th>positive_ratio</th>\n",
              "      <th>negative_ratio</th>\n",
              "    </tr>\n",
              "    <tr>\n",
              "      <th>Id</th>\n",
              "      <th></th>\n",
              "      <th></th>\n",
              "      <th></th>\n",
              "    </tr>\n",
              "  </thead>\n",
              "  <tbody>\n",
              "    <tr>\n",
              "      <th>0</th>\n",
              "      <td>181</td>\n",
              "      <td>0.000000</td>\n",
              "      <td>0.160000</td>\n",
              "    </tr>\n",
              "    <tr>\n",
              "      <th>1</th>\n",
              "      <td>135</td>\n",
              "      <td>0.000000</td>\n",
              "      <td>0.210526</td>\n",
              "    </tr>\n",
              "    <tr>\n",
              "      <th>2</th>\n",
              "      <td>220</td>\n",
              "      <td>0.029412</td>\n",
              "      <td>0.264706</td>\n",
              "    </tr>\n",
              "    <tr>\n",
              "      <th>3</th>\n",
              "      <td>159</td>\n",
              "      <td>0.086957</td>\n",
              "      <td>0.217391</td>\n",
              "    </tr>\n",
              "    <tr>\n",
              "      <th>4</th>\n",
              "      <td>178</td>\n",
              "      <td>0.000000</td>\n",
              "      <td>0.120000</td>\n",
              "    </tr>\n",
              "    <tr>\n",
              "      <th>...</th>\n",
              "      <td>...</td>\n",
              "      <td>...</td>\n",
              "      <td>...</td>\n",
              "    </tr>\n",
              "    <tr>\n",
              "      <th>2346</th>\n",
              "      <td>267</td>\n",
              "      <td>0.000000</td>\n",
              "      <td>0.230769</td>\n",
              "    </tr>\n",
              "    <tr>\n",
              "      <th>2347</th>\n",
              "      <td>280</td>\n",
              "      <td>0.000000</td>\n",
              "      <td>0.157895</td>\n",
              "    </tr>\n",
              "    <tr>\n",
              "      <th>2348</th>\n",
              "      <td>178</td>\n",
              "      <td>0.000000</td>\n",
              "      <td>0.318182</td>\n",
              "    </tr>\n",
              "    <tr>\n",
              "      <th>2349</th>\n",
              "      <td>115</td>\n",
              "      <td>0.062500</td>\n",
              "      <td>0.125000</td>\n",
              "    </tr>\n",
              "    <tr>\n",
              "      <th>2350</th>\n",
              "      <td>240</td>\n",
              "      <td>0.000000</td>\n",
              "      <td>0.222222</td>\n",
              "    </tr>\n",
              "  </tbody>\n",
              "</table>\n",
              "<p>2351 rows × 3 columns</p>\n",
              "</div>\n",
              "      <button class=\"colab-df-convert\" onclick=\"convertToInteractive('df-6a607fbf-c71f-4ba0-9072-6c1d1628f6f7')\"\n",
              "              title=\"Convert this dataframe to an interactive table.\"\n",
              "              style=\"display:none;\">\n",
              "        \n",
              "  <svg xmlns=\"http://www.w3.org/2000/svg\" height=\"24px\"viewBox=\"0 0 24 24\"\n",
              "       width=\"24px\">\n",
              "    <path d=\"M0 0h24v24H0V0z\" fill=\"none\"/>\n",
              "    <path d=\"M18.56 5.44l.94 2.06.94-2.06 2.06-.94-2.06-.94-.94-2.06-.94 2.06-2.06.94zm-11 1L8.5 8.5l.94-2.06 2.06-.94-2.06-.94L8.5 2.5l-.94 2.06-2.06.94zm10 10l.94 2.06.94-2.06 2.06-.94-2.06-.94-.94-2.06-.94 2.06-2.06.94z\"/><path d=\"M17.41 7.96l-1.37-1.37c-.4-.4-.92-.59-1.43-.59-.52 0-1.04.2-1.43.59L10.3 9.45l-7.72 7.72c-.78.78-.78 2.05 0 2.83L4 21.41c.39.39.9.59 1.41.59.51 0 1.02-.2 1.41-.59l7.78-7.78 2.81-2.81c.8-.78.8-2.07 0-2.86zM5.41 20L4 18.59l7.72-7.72 1.47 1.35L5.41 20z\"/>\n",
              "  </svg>\n",
              "      </button>\n",
              "      \n",
              "  <style>\n",
              "    .colab-df-container {\n",
              "      display:flex;\n",
              "      flex-wrap:wrap;\n",
              "      gap: 12px;\n",
              "    }\n",
              "\n",
              "    .colab-df-convert {\n",
              "      background-color: #E8F0FE;\n",
              "      border: none;\n",
              "      border-radius: 50%;\n",
              "      cursor: pointer;\n",
              "      display: none;\n",
              "      fill: #1967D2;\n",
              "      height: 32px;\n",
              "      padding: 0 0 0 0;\n",
              "      width: 32px;\n",
              "    }\n",
              "\n",
              "    .colab-df-convert:hover {\n",
              "      background-color: #E2EBFA;\n",
              "      box-shadow: 0px 1px 2px rgba(60, 64, 67, 0.3), 0px 1px 3px 1px rgba(60, 64, 67, 0.15);\n",
              "      fill: #174EA6;\n",
              "    }\n",
              "\n",
              "    [theme=dark] .colab-df-convert {\n",
              "      background-color: #3B4455;\n",
              "      fill: #D2E3FC;\n",
              "    }\n",
              "\n",
              "    [theme=dark] .colab-df-convert:hover {\n",
              "      background-color: #434B5C;\n",
              "      box-shadow: 0px 1px 3px 1px rgba(0, 0, 0, 0.15);\n",
              "      filter: drop-shadow(0px 1px 2px rgba(0, 0, 0, 0.3));\n",
              "      fill: #FFFFFF;\n",
              "    }\n",
              "  </style>\n",
              "\n",
              "      <script>\n",
              "        const buttonEl =\n",
              "          document.querySelector('#df-6a607fbf-c71f-4ba0-9072-6c1d1628f6f7 button.colab-df-convert');\n",
              "        buttonEl.style.display =\n",
              "          google.colab.kernel.accessAllowed ? 'block' : 'none';\n",
              "\n",
              "        async function convertToInteractive(key) {\n",
              "          const element = document.querySelector('#df-6a607fbf-c71f-4ba0-9072-6c1d1628f6f7');\n",
              "          const dataTable =\n",
              "            await google.colab.kernel.invokeFunction('convertToInteractive',\n",
              "                                                     [key], {});\n",
              "          if (!dataTable) return;\n",
              "\n",
              "          const docLinkHtml = 'Like what you see? Visit the ' +\n",
              "            '<a target=\"_blank\" href=https://colab.research.google.com/notebooks/data_table.ipynb>data table notebook</a>'\n",
              "            + ' to learn more about interactive tables.';\n",
              "          element.innerHTML = '';\n",
              "          dataTable['output_type'] = 'display_data';\n",
              "          await google.colab.output.renderOutput(dataTable, element);\n",
              "          const docLink = document.createElement('div');\n",
              "          docLink.innerHTML = docLinkHtml;\n",
              "          element.appendChild(docLink);\n",
              "        }\n",
              "      </script>\n",
              "    </div>\n",
              "  </div>\n",
              "  "
            ],
            "text/plain": [
              "      review_length  positive_ratio  negative_ratio\n",
              "Id                                                 \n",
              "0               181        0.000000        0.160000\n",
              "1               135        0.000000        0.210526\n",
              "2               220        0.029412        0.264706\n",
              "3               159        0.086957        0.217391\n",
              "4               178        0.000000        0.120000\n",
              "...             ...             ...             ...\n",
              "2346            267        0.000000        0.230769\n",
              "2347            280        0.000000        0.157895\n",
              "2348            178        0.000000        0.318182\n",
              "2349            115        0.062500        0.125000\n",
              "2350            240        0.000000        0.222222\n",
              "\n",
              "[2351 rows x 3 columns]"
            ]
          },
          "execution_count": 174,
          "metadata": {},
          "output_type": "execute_result"
        }
      ],
      "source": [
        "X_num"
      ]
    },
    {
      "cell_type": "markdown",
      "metadata": {
        "id": "AnZ1cpO5867S"
      },
      "source": [
        "CountVectrizer в линейной регрессии"
      ]
    },
    {
      "cell_type": "code",
      "execution_count": null,
      "metadata": {
        "colab": {
          "base_uri": "https://localhost:8080/"
        },
        "id": "pu6Rzv_dmC8f",
        "outputId": "aa218fc0-0862-4725-9ab0-be255c7ee59a"
      },
      "outputs": [
        {
          "data": {
            "text/plain": [
              "16.655654145019316"
            ]
          },
          "execution_count": 110,
          "metadata": {},
          "output_type": "execute_result"
        }
      ],
      "source": [
        "-np.mean(cross_val_score(linreg_cv, X_text_cv, y, scoring=\"neg_root_mean_squared_error\", cv=5))"
      ]
    },
    {
      "cell_type": "markdown",
      "metadata": {
        "id": "iKbDdgtL8--j"
      },
      "source": [
        "Линейная регрессия не на текстовых данных"
      ]
    },
    {
      "cell_type": "code",
      "execution_count": null,
      "metadata": {
        "colab": {
          "base_uri": "https://localhost:8080/"
        },
        "id": "b4kFTsfD5Nei",
        "outputId": "96e1d6c6-d96d-48af-e8f7-78c9c62167aa"
      },
      "outputs": [
        {
          "data": {
            "text/plain": [
              "18.202353492055966"
            ]
          },
          "execution_count": 117,
          "metadata": {},
          "output_type": "execute_result"
        }
      ],
      "source": [
        "-np.mean(cross_val_score(linreg_num, X_num, y, scoring=\"neg_root_mean_squared_error\", cv=5))"
      ]
    },
    {
      "cell_type": "markdown",
      "metadata": {
        "id": "6wRuM7yX_mf1"
      },
      "source": [
        "Можно попробовать сделать ансамбль из текстовой модели и модели по другим признакам "
      ]
    },
    {
      "cell_type": "markdown",
      "metadata": {
        "id": "6SAUMOSg9HPP"
      },
      "source": [
        "CountVectrizer в случайном лесе"
      ]
    },
    {
      "cell_type": "code",
      "execution_count": null,
      "metadata": {
        "colab": {
          "base_uri": "https://localhost:8080/"
        },
        "id": "VYT77GNQ7Q4M",
        "outputId": "66360b26-8b47-4b16-c6c0-2427fba71f23"
      },
      "outputs": [
        {
          "data": {
            "text/plain": [
              "14.922277560034944"
            ]
          },
          "execution_count": 114,
          "metadata": {},
          "output_type": "execute_result"
        }
      ],
      "source": [
        "-np.mean(cross_val_score(rfr_cv, X_text_cv, y, scoring=\"neg_root_mean_squared_error\", cv=3))"
      ]
    },
    {
      "cell_type": "markdown",
      "metadata": {
        "id": "UxzK14779K5C"
      },
      "source": [
        "Случайный лес не на текстовых данных"
      ]
    },
    {
      "cell_type": "code",
      "execution_count": null,
      "metadata": {
        "colab": {
          "base_uri": "https://localhost:8080/"
        },
        "id": "7MrQ5yTE7Vf0",
        "outputId": "61122efd-b688-4236-fbaa-2c10192ee218"
      },
      "outputs": [
        {
          "data": {
            "text/plain": [
              "14.93736180206897"
            ]
          },
          "execution_count": 118,
          "metadata": {},
          "output_type": "execute_result"
        }
      ],
      "source": [
        "-np.mean(cross_val_score(rfr_num, X_text_cv, y, scoring=\"neg_root_mean_squared_error\", cv=3))"
      ]
    },
    {
      "cell_type": "markdown",
      "metadata": {
        "id": "lTgRvwW19TP9"
      },
      "source": [
        "Теперь пробуем TF-IDF"
      ]
    },
    {
      "cell_type": "code",
      "execution_count": 190,
      "metadata": {
        "id": "wZ1TPjqp8UB3"
      },
      "outputs": [],
      "source": [
        "X_text_tf = tfidf.fit_transform(df_drop['clean_text'])"
      ]
    },
    {
      "cell_type": "code",
      "execution_count": null,
      "metadata": {
        "id": "LGa43HsT8fH1"
      },
      "outputs": [],
      "source": [
        "linreg_tf = LinearRegression()\n",
        "rfr_tf = RandomForestRegressor()"
      ]
    },
    {
      "cell_type": "code",
      "execution_count": null,
      "metadata": {
        "colab": {
          "base_uri": "https://localhost:8080/"
        },
        "id": "QK0H1BP682VX",
        "outputId": "9ae7bc26-d3fb-4a4a-8139-e14a403a7530"
      },
      "outputs": [
        {
          "name": "stdout",
          "output_type": "stream",
          "text": [
            "RMSE при TF-IDF в линейной регрессии: 13.935547555054551\n"
          ]
        }
      ],
      "source": [
        "print(f'RMSE при TF-IDF в линейной регрессии: {-np.mean(cross_val_score(linreg_tf, X_text_tf, y, scoring=\"neg_root_mean_squared_error\", cv=5))}')"
      ]
    },
    {
      "cell_type": "code",
      "execution_count": null,
      "metadata": {
        "colab": {
          "base_uri": "https://localhost:8080/"
        },
        "id": "lEVEf8X291O9",
        "outputId": "0992ece0-c528-42e1-99f6-22b1f5b930a6"
      },
      "outputs": [
        {
          "name": "stdout",
          "output_type": "stream",
          "text": [
            "RMSE при TF-IDF в случайном лесе: 14.854787043742704\n"
          ]
        }
      ],
      "source": [
        "print(f'RMSE при TF-IDF в случайном лесе: {-np.mean(cross_val_score(rfr_tf, X_text_tf, y, scoring=\"neg_root_mean_squared_error\", cv=3))}')"
      ]
    },
    {
      "cell_type": "markdown",
      "metadata": {
        "id": "cP9dO-Bc-XfM"
      },
      "source": [
        "В линейной регрессии ошибка меньше даже..."
      ]
    },
    {
      "cell_type": "markdown",
      "metadata": {
        "id": "Y6-G6YOE-6-6"
      },
      "source": [
        "Ну и Word2Vec еще"
      ]
    },
    {
      "cell_type": "code",
      "execution_count": 175,
      "metadata": {
        "id": "RMkYewj9-6Cd"
      },
      "outputs": [],
      "source": [
        "from gensim.models.word2vec import Word2Vec"
      ]
    },
    {
      "cell_type": "code",
      "execution_count": 176,
      "metadata": {
        "id": "71dkyfac-ee0"
      },
      "outputs": [],
      "source": [
        "n_features = 100\n",
        "text_corpus = [x.split(\" \") for x in df_drop['clean_text']]\n",
        "w2v = Word2Vec(text_corpus, min_count=1, sg=1, size=n_features)"
      ]
    },
    {
      "cell_type": "code",
      "execution_count": 177,
      "metadata": {
        "id": "pSvWyibE_oBW"
      },
      "outputs": [],
      "source": [
        "X_text_w2v = [np.mean([w2v.wv[w] for w in t.split(\" \")], axis=0) for t in df_drop['clean_text']]\n",
        "X_text_w2v = np.vstack(X_text_w2v)"
      ]
    },
    {
      "cell_type": "code",
      "execution_count": 178,
      "metadata": {
        "id": "BXZuCvU6_98s"
      },
      "outputs": [],
      "source": [
        "linreg_w2v = LinearRegression()\n",
        "rfr_w2v = RandomForestRegressor()"
      ]
    },
    {
      "cell_type": "code",
      "execution_count": 179,
      "metadata": {
        "colab": {
          "base_uri": "https://localhost:8080/"
        },
        "id": "FqwCtwdF_8Jp",
        "outputId": "16c753c0-ed41-4d71-f83e-f2fe9366a424"
      },
      "outputs": [
        {
          "name": "stdout",
          "output_type": "stream",
          "text": [
            "RMSE при Word2Vec в линейной регрессии: 17.272609288670235\n"
          ]
        }
      ],
      "source": [
        "print(f'RMSE при Word2Vec в линейной регрессии: {-np.mean(cross_val_score(linreg_w2v, X_text_w2v, y, scoring=\"neg_root_mean_squared_error\", cv=5))}')"
      ]
    },
    {
      "cell_type": "code",
      "execution_count": 182,
      "metadata": {
        "colab": {
          "base_uri": "https://localhost:8080/"
        },
        "id": "r2eXcGy9Azrx",
        "outputId": "29070417-f826-4379-a1cf-c4300d2e3c8d"
      },
      "outputs": [
        {
          "name": "stdout",
          "output_type": "stream",
          "text": [
            "RMSE при Word2Vec в случайном лесе: 14.928710953631773\n"
          ]
        }
      ],
      "source": [
        "print(f'RMSE при Word2Vec в случайном лесе: {-np.mean(cross_val_score(rfr_w2v, X_text_w2v, y, scoring=\"neg_root_mean_squared_error\", cv=3))}')"
      ]
    },
    {
      "cell_type": "markdown",
      "metadata": {
        "id": "oeyP3MF-EFE8"
      },
      "source": [
        "Теперь темтовая выборка"
      ]
    },
    {
      "cell_type": "code",
      "execution_count": 183,
      "metadata": {
        "id": "cFaEmKpmEEoF"
      },
      "outputs": [],
      "source": [
        "test_df = pd.read_csv('/content/drive/MyDrive/Programming/test.csv', encoding=\"ISO-8859-1\", index_col='Id')"
      ]
    },
    {
      "cell_type": "code",
      "execution_count": 184,
      "metadata": {
        "colab": {
          "base_uri": "https://localhost:8080/",
          "height": 455
        },
        "id": "01AF5AeGEViP",
        "outputId": "29ec70d2-cd32-41ff-9e6f-da0766d64f93"
      },
      "outputs": [
        {
          "data": {
            "text/html": [
              "\n",
              "  <div id=\"df-0b76195f-9944-4aab-a317-e95cab6ee55a\">\n",
              "    <div class=\"colab-df-container\">\n",
              "      <div>\n",
              "<style scoped>\n",
              "    .dataframe tbody tr th:only-of-type {\n",
              "        vertical-align: middle;\n",
              "    }\n",
              "\n",
              "    .dataframe tbody tr th {\n",
              "        vertical-align: top;\n",
              "    }\n",
              "\n",
              "    .dataframe thead th {\n",
              "        text-align: right;\n",
              "    }\n",
              "</style>\n",
              "<table border=\"1\" class=\"dataframe\">\n",
              "  <thead>\n",
              "    <tr style=\"text-align: right;\">\n",
              "      <th></th>\n",
              "      <th>Hotel_name</th>\n",
              "      <th>Review_Title</th>\n",
              "      <th>Review_Text</th>\n",
              "    </tr>\n",
              "    <tr>\n",
              "      <th>Id</th>\n",
              "      <th></th>\n",
              "      <th></th>\n",
              "      <th></th>\n",
              "    </tr>\n",
              "  </thead>\n",
              "  <tbody>\n",
              "    <tr>\n",
              "      <th>2351</th>\n",
              "      <td>ITC Grand Chola</td>\n",
              "      <td>Mr Neeraj</td>\n",
              "      <td>On the night of my arrival from NY I had a min...</td>\n",
              "    </tr>\n",
              "    <tr>\n",
              "      <th>2352</th>\n",
              "      <td>Hotel Pandian</td>\n",
              "      <td>NaN</td>\n",
              "      <td>Not so great.  But it is still acceptable. Bit...</td>\n",
              "    </tr>\n",
              "    <tr>\n",
              "      <th>2353</th>\n",
              "      <td>Oyo Rooms Guindy Olympia Tech Park</td>\n",
              "      <td>Nice stay for corporate people</td>\n",
              "      <td>Been a good place to stay for people who visit...</td>\n",
              "    </tr>\n",
              "    <tr>\n",
              "      <th>2354</th>\n",
              "      <td>OYO Apartments Saidapet</td>\n",
              "      <td>Average hotel</td>\n",
              "      <td>Not worth of the money we paid.worst ac.no wat...</td>\n",
              "    </tr>\n",
              "    <tr>\n",
              "      <th>2355</th>\n",
              "      <td>Ramada Chennai Egmore</td>\n",
              "      <td>A good mid range corporate hotel</td>\n",
              "      <td>A well located hotel, with decent sized rooms ...</td>\n",
              "    </tr>\n",
              "    <tr>\n",
              "      <th>...</th>\n",
              "      <td>...</td>\n",
              "      <td>...</td>\n",
              "      <td>...</td>\n",
              "    </tr>\n",
              "    <tr>\n",
              "      <th>4698</th>\n",
              "      <td>Lemon Tree Chennai</td>\n",
              "      <td>Average stay</td>\n",
              "      <td>Compared to other lemon tree stay, this was bi...</td>\n",
              "    </tr>\n",
              "    <tr>\n",
              "      <th>4699</th>\n",
              "      <td>Oyo Rooms T Nagar Off Pondy Bazaar</td>\n",
              "      <td>location is not good. rude behavior. staff no ...</td>\n",
              "      <td>unpleasant stay. not easy task to reach. Morni...</td>\n",
              "    </tr>\n",
              "    <tr>\n",
              "      <th>4700</th>\n",
              "      <td>VGP Golden Beach Resort</td>\n",
              "      <td>NaN</td>\n",
              "      <td>Quality of service is too bad. We arrived 12.3...</td>\n",
              "    </tr>\n",
              "    <tr>\n",
              "      <th>4701</th>\n",
              "      <td>The Park Chennai</td>\n",
              "      <td>Over rated and overpriced Hotel</td>\n",
              "      <td>I am not sure why someone wants to spend that ...</td>\n",
              "    </tr>\n",
              "    <tr>\n",
              "      <th>4702</th>\n",
              "      <td>Peace Inn</td>\n",
              "      <td>Nice Beach Hotel</td>\n",
              "      <td>I visited Chennai in the summer of 2014. This ...</td>\n",
              "    </tr>\n",
              "  </tbody>\n",
              "</table>\n",
              "<p>2352 rows × 3 columns</p>\n",
              "</div>\n",
              "      <button class=\"colab-df-convert\" onclick=\"convertToInteractive('df-0b76195f-9944-4aab-a317-e95cab6ee55a')\"\n",
              "              title=\"Convert this dataframe to an interactive table.\"\n",
              "              style=\"display:none;\">\n",
              "        \n",
              "  <svg xmlns=\"http://www.w3.org/2000/svg\" height=\"24px\"viewBox=\"0 0 24 24\"\n",
              "       width=\"24px\">\n",
              "    <path d=\"M0 0h24v24H0V0z\" fill=\"none\"/>\n",
              "    <path d=\"M18.56 5.44l.94 2.06.94-2.06 2.06-.94-2.06-.94-.94-2.06-.94 2.06-2.06.94zm-11 1L8.5 8.5l.94-2.06 2.06-.94-2.06-.94L8.5 2.5l-.94 2.06-2.06.94zm10 10l.94 2.06.94-2.06 2.06-.94-2.06-.94-.94-2.06-.94 2.06-2.06.94z\"/><path d=\"M17.41 7.96l-1.37-1.37c-.4-.4-.92-.59-1.43-.59-.52 0-1.04.2-1.43.59L10.3 9.45l-7.72 7.72c-.78.78-.78 2.05 0 2.83L4 21.41c.39.39.9.59 1.41.59.51 0 1.02-.2 1.41-.59l7.78-7.78 2.81-2.81c.8-.78.8-2.07 0-2.86zM5.41 20L4 18.59l7.72-7.72 1.47 1.35L5.41 20z\"/>\n",
              "  </svg>\n",
              "      </button>\n",
              "      \n",
              "  <style>\n",
              "    .colab-df-container {\n",
              "      display:flex;\n",
              "      flex-wrap:wrap;\n",
              "      gap: 12px;\n",
              "    }\n",
              "\n",
              "    .colab-df-convert {\n",
              "      background-color: #E8F0FE;\n",
              "      border: none;\n",
              "      border-radius: 50%;\n",
              "      cursor: pointer;\n",
              "      display: none;\n",
              "      fill: #1967D2;\n",
              "      height: 32px;\n",
              "      padding: 0 0 0 0;\n",
              "      width: 32px;\n",
              "    }\n",
              "\n",
              "    .colab-df-convert:hover {\n",
              "      background-color: #E2EBFA;\n",
              "      box-shadow: 0px 1px 2px rgba(60, 64, 67, 0.3), 0px 1px 3px 1px rgba(60, 64, 67, 0.15);\n",
              "      fill: #174EA6;\n",
              "    }\n",
              "\n",
              "    [theme=dark] .colab-df-convert {\n",
              "      background-color: #3B4455;\n",
              "      fill: #D2E3FC;\n",
              "    }\n",
              "\n",
              "    [theme=dark] .colab-df-convert:hover {\n",
              "      background-color: #434B5C;\n",
              "      box-shadow: 0px 1px 3px 1px rgba(0, 0, 0, 0.15);\n",
              "      filter: drop-shadow(0px 1px 2px rgba(0, 0, 0, 0.3));\n",
              "      fill: #FFFFFF;\n",
              "    }\n",
              "  </style>\n",
              "\n",
              "      <script>\n",
              "        const buttonEl =\n",
              "          document.querySelector('#df-0b76195f-9944-4aab-a317-e95cab6ee55a button.colab-df-convert');\n",
              "        buttonEl.style.display =\n",
              "          google.colab.kernel.accessAllowed ? 'block' : 'none';\n",
              "\n",
              "        async function convertToInteractive(key) {\n",
              "          const element = document.querySelector('#df-0b76195f-9944-4aab-a317-e95cab6ee55a');\n",
              "          const dataTable =\n",
              "            await google.colab.kernel.invokeFunction('convertToInteractive',\n",
              "                                                     [key], {});\n",
              "          if (!dataTable) return;\n",
              "\n",
              "          const docLinkHtml = 'Like what you see? Visit the ' +\n",
              "            '<a target=\"_blank\" href=https://colab.research.google.com/notebooks/data_table.ipynb>data table notebook</a>'\n",
              "            + ' to learn more about interactive tables.';\n",
              "          element.innerHTML = '';\n",
              "          dataTable['output_type'] = 'display_data';\n",
              "          await google.colab.output.renderOutput(dataTable, element);\n",
              "          const docLink = document.createElement('div');\n",
              "          docLink.innerHTML = docLinkHtml;\n",
              "          element.appendChild(docLink);\n",
              "        }\n",
              "      </script>\n",
              "    </div>\n",
              "  </div>\n",
              "  "
            ],
            "text/plain": [
              "                              Hotel_name  \\\n",
              "Id                                         \n",
              "2351                     ITC Grand Chola   \n",
              "2352                       Hotel Pandian   \n",
              "2353  Oyo Rooms Guindy Olympia Tech Park   \n",
              "2354             OYO Apartments Saidapet   \n",
              "2355               Ramada Chennai Egmore   \n",
              "...                                  ...   \n",
              "4698                  Lemon Tree Chennai   \n",
              "4699  Oyo Rooms T Nagar Off Pondy Bazaar   \n",
              "4700             VGP Golden Beach Resort   \n",
              "4701                    The Park Chennai   \n",
              "4702                           Peace Inn   \n",
              "\n",
              "                                           Review_Title  \\\n",
              "Id                                                        \n",
              "2351                                          Mr Neeraj   \n",
              "2352                                                NaN   \n",
              "2353                     Nice stay for corporate people   \n",
              "2354                                      Average hotel   \n",
              "2355                   A good mid range corporate hotel   \n",
              "...                                                 ...   \n",
              "4698                                       Average stay   \n",
              "4699  location is not good. rude behavior. staff no ...   \n",
              "4700                                                NaN   \n",
              "4701                    Over rated and overpriced Hotel   \n",
              "4702                                   Nice Beach Hotel   \n",
              "\n",
              "                                            Review_Text  \n",
              "Id                                                       \n",
              "2351  On the night of my arrival from NY I had a min...  \n",
              "2352  Not so great.  But it is still acceptable. Bit...  \n",
              "2353  Been a good place to stay for people who visit...  \n",
              "2354  Not worth of the money we paid.worst ac.no wat...  \n",
              "2355  A well located hotel, with decent sized rooms ...  \n",
              "...                                                 ...  \n",
              "4698  Compared to other lemon tree stay, this was bi...  \n",
              "4699  unpleasant stay. not easy task to reach. Morni...  \n",
              "4700  Quality of service is too bad. We arrived 12.3...  \n",
              "4701  I am not sure why someone wants to spend that ...  \n",
              "4702  I visited Chennai in the summer of 2014. This ...  \n",
              "\n",
              "[2352 rows x 3 columns]"
            ]
          },
          "execution_count": 184,
          "metadata": {},
          "output_type": "execute_result"
        }
      ],
      "source": [
        "test_df"
      ]
    },
    {
      "cell_type": "code",
      "execution_count": 186,
      "metadata": {
        "colab": {
          "base_uri": "https://localhost:8080/"
        },
        "id": "z-MmRbXMErvB",
        "outputId": "f522bc13-41c8-4776-f0f3-05260e1b6a93"
      },
      "outputs": [
        {
          "data": {
            "text/plain": [
              "Hotel_name        0\n",
              "Review_Title    209\n",
              "Review_Text       0\n",
              "dtype: int64"
            ]
          },
          "execution_count": 186,
          "metadata": {},
          "output_type": "execute_result"
        }
      ],
      "source": [
        "test_df.isna().sum()"
      ]
    },
    {
      "cell_type": "code",
      "execution_count": 187,
      "metadata": {
        "id": "k2yTT91zqndp"
      },
      "outputs": [],
      "source": [
        "test_df.loc[test_df[\"Review_Title\"].isna(), 'Review_Title'] = test_df.loc[test_df[\"Review_Title\"].isna(), 'Hotel_name']\n",
        "test_df['review_full'] = test_df[\"Review_Title\"] + ' ' + test_df['Review_Text']\n",
        "df_resub_test = test_df.apply(re_sub, axis=1)\n",
        "df_resub_test['clean_text'] = df_resub_test[\"review_full\"].apply(lambda x: clean_text(x))\n",
        "df_resub_test['review_length'] = df_resub_test[\"clean_text\"].apply(lambda x: len(x))\n",
        "df_drop_test = df_resub_test.drop(columns=['Hotel_name', 'Review_Title', 'Review_Text', 'review_full'])\n",
        "pos_neg = df_drop_test[\"clean_text\"].apply(lambda x: pos_neg_words(x))\n",
        "neg_list_rate = pos_neg.apply(lambda x: x[0])\n",
        "pos_list_rate = pos_neg.apply(lambda x: x[1])\n",
        "df_drop_test[\"positive_ratio\"], df_drop_test[\"negative_ratio\"] = pos_list_rate, neg_list_rate"
      ]
    },
    {
      "cell_type": "markdown",
      "metadata": {
        "id": "qR2SCbs7FX4N"
      },
      "source": [
        "Использум лучшую модель (TF-IDF, LinReg)"
      ]
    },
    {
      "cell_type": "code",
      "execution_count": 192,
      "metadata": {
        "colab": {
          "base_uri": "https://localhost:8080/"
        },
        "id": "t64nYYesFuEj",
        "outputId": "bedaba3e-7970-4726-b78a-b6f89fc194fe"
      },
      "outputs": [
        {
          "data": {
            "text/plain": [
              "LinearRegression()"
            ]
          },
          "execution_count": 192,
          "metadata": {},
          "output_type": "execute_result"
        }
      ],
      "source": [
        "linreg_tf.fit(X_text_tf, y)"
      ]
    },
    {
      "cell_type": "code",
      "execution_count": 191,
      "metadata": {
        "id": "tQLf_vsOE5Go"
      },
      "outputs": [],
      "source": [
        "X_test_tf = tfidf.transform(df_drop_test['clean_text'])"
      ]
    },
    {
      "cell_type": "code",
      "execution_count": 193,
      "metadata": {
        "colab": {
          "base_uri": "https://localhost:8080/"
        },
        "id": "zCFX7E3NFfFV",
        "outputId": "fa7fd641-169d-49d3-970b-b356c94ca956"
      },
      "outputs": [
        {
          "data": {
            "text/plain": [
              "array([99.99999988, 82.3426003 , 75.2412842 , ..., 46.65595423,\n",
              "       40.00000002, 80.00000008])"
            ]
          },
          "execution_count": 193,
          "metadata": {},
          "output_type": "execute_result"
        }
      ],
      "source": [
        "y_pred = linreg_tf.predict(X_test_tf)\n",
        "y_pred"
      ]
    },
    {
      "cell_type": "code",
      "execution_count": null,
      "metadata": {
        "id": "aBse3a-RF6oT"
      },
      "outputs": [],
      "source": []
    },
    {
      "cell_type": "markdown",
      "metadata": {
        "id": "KK294GeiF9Nt"
      },
      "source": [
        "Поставьте оценку пж..."
      ]
    },
    {
      "cell_type": "code",
      "execution_count": null,
      "metadata": {
        "id": "GysQ-9oyF-3f"
      },
      "outputs": [],
      "source": []
    }
  ],
  "metadata": {
    "colab": {
      "collapsed_sections": [],
      "name": "hw_nlp.ipynb",
      "provenance": []
    },
    "interpreter": {
      "hash": "13ee6185cabf15aeabe085e2102163313265e4ad4b413e69c979fd0c27f1d899"
    },
    "kernelspec": {
      "display_name": "Python 3.9.0 64-bit",
      "language": "python",
      "name": "python3"
    },
    "language_info": {
      "name": "python",
      "version": "3.9.0"
    }
  },
  "nbformat": 4,
  "nbformat_minor": 0
}
